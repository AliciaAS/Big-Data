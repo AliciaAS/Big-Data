{
 "cells": [
  {
   "cell_type": "markdown",
   "metadata": {},
   "source": [
    "Before you turn this problem in, make sure everything runs as expected. First, **restart the kernel** (in the menubar, select Kernel$\\rightarrow$Restart) and then **run all cells** (in the menubar, select Cell$\\rightarrow$Run All).\n",
    "\n",
    "Make sure you fill in any place that says `YOUR CODE HERE` or \"YOUR ANSWER HERE\", as well as your name and collaborators below:"
   ]
  },
  {
   "cell_type": "code",
   "execution_count": 1,
   "metadata": {},
   "outputs": [],
   "source": [
    "NAME = \"Alicia Amores Sánchez\"\n",
    "COLLABORATORS = \"\""
   ]
  },
  {
   "cell_type": "markdown",
   "metadata": {},
   "source": [
    "---"
   ]
  },
  {
   "cell_type": "markdown",
   "metadata": {
    "deletable": false,
    "editable": false,
    "nbgrader": {
     "cell_type": "markdown",
     "checksum": "8644d62deca81600ce8f1e0a9e5e9d65",
     "grade": false,
     "grade_id": "intro",
     "locked": true,
     "schema_version": 3,
     "solution": false,
     "task": false
    }
   },
   "source": [
    "![Spark Logo](http://spark-mooc.github.io/web-assets/images/ta_Spark-logo-small.png)  ![Python Logo](http://spark-mooc.github.io/web-assets/images/python-logo-master-v3-TM-flattened_small.png)\n",
    "# PEC 3: Noviembre 2022\n",
    "\n",
    "## Extracción de conocimiento de fuentes de datos heterogéneas mediante Spark SQL, RDDs y GraphFrames\n",
    "\n",
    "En está práctica vamos a introducir los elementos que ofrece Spark para trabajar con estructuras de datos. Veremos desde estructuras muy simples hasta estructuras complejas, donde los campos pueden a su vez tener campos anidados. En concreto utilizaremos datos de twitter capturados en el contexto de las elecciones generales en España del 28 de Abril de 2019. La práctica está estructurada de la siguiente manera:\n",
    "- **Parte 0:** Configuración del entorno\n",
    "- **Parte 1:** Introducción a data frames estructurados y cómo operar extraer información *(2 puntos)*\n",
    "    - **Parte 1.1:** Importar los datos *(0.25 puntos)*\n",
    "    - **Parte 1.2:** *Queries* sobre sobre data frames complejos *(1.75 puntos)*\n",
    "        - **Parte 1.2.1:** Queries SQL *(0.75 puntos)*\n",
    "        - **Parte 1.2.2:** Queries sobre el pipeline *(1 punto)*\n",
    "- **Parte 2:** Bases de datos HIVE y operaciones complejas *(3 puntos)*\n",
    "    - **Parte 2.1:** Bases de datos Hive *(0.25 puntos)*\n",
    "    - **Parte 2.2:** Más allá de las transformaciones SQL *(2.75 puntos)*\n",
    "        - **Parte 2.2.1:** Tweets por población  *(1.25 puntos)*\n",
    "            - **Parte 2.2.1.1:** Utilizando SQL *(0.25 puntos)*\n",
    "            - **Parte 2.2.1.2:** Utilizando RDD *(1 punto)*\n",
    "        - **Parte 2.2.2:** Contar hashtags *(1.5 puntos)*\n",
    "- **Parte 3:** Sampling *(2 Puntos)*\n",
    "    - **Parte 3.1:** Homogéneo *(1 punto)*\n",
    "    - **Parte 3.2:** Estratificado *(1 puntos)*\n",
    "- **Parte 4**: Introducción a los datos relacionales *(2 puntos)*\n",
    "    - **Parte 4.1:** Generar la red de retweets *(1.5 punto)*\n",
    "        - **Parte 4.1.1**: Construcción de la edgelist *(0.75 puntos)*\n",
    "        - **Parte 4.1.2**: Centralidad de grado *(0.75 puntos)*\n",
    "    - **Parte 4.2:** Análisis de redes utilitzando GraphFrames *(0.5 punto)*\n",
    "- **Parte 5**: Preguntas teóricas *(1 puntos)*"
   ]
  },
  {
   "cell_type": "markdown",
   "metadata": {
    "deletable": false,
    "editable": false,
    "nbgrader": {
     "cell_type": "markdown",
     "checksum": "d845d2e6b513fb518a5a6f2165d32d61",
     "grade": false,
     "grade_id": "Parte0_header",
     "locked": true,
     "schema_version": 3,
     "solution": false,
     "task": false
    }
   },
   "source": [
    "## **Parte 0:** Configuración del entorno"
   ]
  },
  {
   "cell_type": "code",
   "execution_count": 2,
   "metadata": {
    "deletable": false,
    "editable": false,
    "nbgrader": {
     "cell_type": "code",
     "checksum": "1019c3cf9d0efe96cc1d9afdf24f0548",
     "grade": false,
     "grade_id": "importspark",
     "locked": true,
     "schema_version": 3,
     "solution": false,
     "task": false
    }
   },
   "outputs": [],
   "source": [
    "import findspark\n",
    "findspark.init()"
   ]
  },
  {
   "cell_type": "code",
   "execution_count": 3,
   "metadata": {
    "deletable": false,
    "editable": false,
    "nbgrader": {
     "cell_type": "code",
     "checksum": "4ac204ea47d4c0ba2422851f2491df1f",
     "grade": false,
     "grade_id": "importlibraries",
     "locked": true,
     "schema_version": 3,
     "solution": false,
     "task": false
    }
   },
   "outputs": [],
   "source": [
    "import re\n",
    "import os\n",
    "import pandas as pd\n",
    "from matplotlib import pyplot as plt\n",
    "from math import floor\n",
    "from pyspark import SparkConf, SparkContext, SQLContext, HiveContext\n",
    "from pyspark.sql import Row"
   ]
  },
  {
   "cell_type": "code",
   "execution_count": 4,
   "metadata": {},
   "outputs": [],
   "source": [
    "SUBMIT_ARGS = \"--jars /opt/cloudera/parcels/CDH-6.2.0-1.cdh6.2.0.p0.967373/jars/graphframes_graphframes-0.7.0-spark2.4-s_2.11.jar pyspark-shell\"\n",
    "\n",
    "os.environ[\"PYSPARK_SUBMIT_ARGS\"] = SUBMIT_ARGS\n",
    "\n",
    "conf = SparkConf()\n",
    "conf.setMaster(\"local[1]\")\n",
    "# Introducid el nombre de la app PEC3_ seguido de vuestro nombre de usuario\n",
    "conf.setAppName(\"PEC3_aamoressa\")\n",
    "sc = SparkContext(conf=conf)"
   ]
  },
  {
   "cell_type": "markdown",
   "metadata": {
    "deletable": false,
    "editable": false,
    "nbgrader": {
     "cell_type": "markdown",
     "checksum": "b4c2dfb28a368dad0bddaf7eadbc1025",
     "grade": false,
     "grade_id": "parte1_1_intro",
     "locked": true,
     "schema_version": 3,
     "solution": false,
     "task": false
    },
    "toc-hr-collapsed": false
   },
   "source": [
    "## **Parte 1:** Introducción a data frames estructurados i operaciones sobre ellos.\n",
    "\n",
    "Como ya se ha mencionado, en esta práctica vamos ha utilizar datos de Twitter que recolectamos durante las elecciones generales en España del 28 de abril de 2019. Como veremos, los tweets tienen una estructura interna bastante compleja que hemos simplificado un poco en esta práctica.\n",
    "\n",
    "### **Parte 1.1:** Importar los datos\n",
    "\n",
    "Lo primero que vamos ha aprender es cómo importar este tipo de datos a nuestro entorno. Uno de los tipos de archivos más comunes para guardar este formato de información es [la estructura JSON](https://en.wikipedia.org/wiki/JSON). Esta estructura permite guardar información en un texto plano de diferentes objetos siguiendo una estructura de diccionario donde cada campo tiene asignado una clave y un valor. La estructura puede ser anidada, o sea que una clave puede tener como valor otra estructura de tipo diccionario.\n",
    "\n",
    "Spark SQL permite leer datos de muchos formatos diferentes. Se os pide que [leáis un fichero JSON](https://spark.apache.org/docs/2.4.0/sql-data-sources-json.html) de la ruta ```/aula_M2.858/data/tweets28a_sample.json```. Este archivo contiene un pequeño *sample*, un 0.1% de la base de datos completa (en un siguiente apartado veremos cómo realizar este *sampleado*). En esta ocasión no se os pide especificar la estructura del dataframe ya que la función de lectura la inferirá automáticamente.\n",
    "\n",
    "**Esquema**\n",
    "\n",
    "```Python\n",
    "sqlContext = SQLContext(sc)\n",
    "tweets_sample = sqlContext.read.<FILL IN>\n",
    "\n",
    "print(\"Loaded dataset contains %d tweets\" % tweets_sample.count())\n",
    "```"
   ]
  },
  {
   "cell_type": "code",
   "execution_count": 5,
   "metadata": {
    "deletable": false,
    "nbgrader": {
     "cell_type": "code",
     "checksum": "7f04ecc8fe795af3dcfd4e51643a90e5",
     "grade": false,
     "grade_id": "load_tweets",
     "locked": false,
     "schema_version": 3,
     "solution": true,
     "task": false
    }
   },
   "outputs": [
    {
     "name": "stdout",
     "output_type": "stream",
     "text": [
      "Loaded dataset contains 27268 tweets\n"
     ]
    }
   ],
   "source": [
    "sqlContext = SQLContext(sc)\n",
    "tweets_sample = sqlContext.read.json(\"/aula_M2.858/data/tweets28a_sample.json\")\n",
    "\n",
    "print(\"Loaded dataset contains %d tweets\" % tweets_sample.count())"
   ]
  },
  {
   "cell_type": "code",
   "execution_count": 6,
   "metadata": {
    "deletable": false,
    "editable": false,
    "nbgrader": {
     "cell_type": "code",
     "checksum": "5b32e31dcac7cd3cb12f5ff8c4ec967f",
     "grade": true,
     "grade_id": "cell-ac6d02ab7a3980d0",
     "locked": true,
     "points": 0.125,
     "schema_version": 3,
     "solution": false,
     "task": false
    }
   },
   "outputs": [],
   "source": [
    "assert tweets_sample.count() == 27268, \"Incorrect answer\""
   ]
  },
  {
   "cell_type": "markdown",
   "metadata": {
    "deletable": false,
    "editable": false,
    "nbgrader": {
     "cell_type": "markdown",
     "checksum": "d59f2e2ec53cd32f43dc347686a866aa",
     "grade": false,
     "grade_id": "cell-0b021e1dd0a4438c",
     "locked": true,
     "schema_version": 3,
     "solution": false,
     "task": false
    }
   },
   "source": [
    "El siguiente paso es mostrar la estructura del dataset que acabamos de cargar. Podéis obtener la información acerca de cómo está estructurado el DataTable utilizando el método ```printSchema()``` de la variable `tweets_sample`."
   ]
  },
  {
   "cell_type": "code",
   "execution_count": 7,
   "metadata": {
    "deletable": false,
    "nbgrader": {
     "cell_type": "code",
     "checksum": "df146a278f35e2a4678400c4d6aa15b1",
     "grade": true,
     "grade_id": "print_shema",
     "locked": false,
     "points": 0.125,
     "schema_version": 3,
     "solution": true,
     "task": false
    }
   },
   "outputs": [
    {
     "name": "stdout",
     "output_type": "stream",
     "text": [
      "root\n",
      " |-- _id: string (nullable = true)\n",
      " |-- created_at: long (nullable = true)\n",
      " |-- lang: string (nullable = true)\n",
      " |-- place: struct (nullable = true)\n",
      " |    |-- bounding_box: struct (nullable = true)\n",
      " |    |    |-- coordinates: array (nullable = true)\n",
      " |    |    |    |-- element: array (containsNull = true)\n",
      " |    |    |    |    |-- element: array (containsNull = true)\n",
      " |    |    |    |    |    |-- element: double (containsNull = true)\n",
      " |    |    |-- type: string (nullable = true)\n",
      " |    |-- country_code: string (nullable = true)\n",
      " |    |-- id: string (nullable = true)\n",
      " |    |-- name: string (nullable = true)\n",
      " |    |-- place_type: string (nullable = true)\n",
      " |-- retweeted_status: struct (nullable = true)\n",
      " |    |-- _id: string (nullable = true)\n",
      " |    |-- user: struct (nullable = true)\n",
      " |    |    |-- followers_count: long (nullable = true)\n",
      " |    |    |-- friends_count: long (nullable = true)\n",
      " |    |    |-- id_str: string (nullable = true)\n",
      " |    |    |-- lang: string (nullable = true)\n",
      " |    |    |-- screen_name: string (nullable = true)\n",
      " |    |    |-- statuses_count: long (nullable = true)\n",
      " |-- text: string (nullable = true)\n",
      " |-- user: struct (nullable = true)\n",
      " |    |-- followers_count: long (nullable = true)\n",
      " |    |-- friends_count: long (nullable = true)\n",
      " |    |-- id_str: string (nullable = true)\n",
      " |    |-- lang: string (nullable = true)\n",
      " |    |-- screen_name: string (nullable = true)\n",
      " |    |-- statuses_count: long (nullable = true)\n",
      "\n"
     ]
    }
   ],
   "source": [
    "tweets_sample.printSchema()"
   ]
  },
  {
   "cell_type": "markdown",
   "metadata": {
    "deletable": false,
    "editable": false,
    "nbgrader": {
     "cell_type": "markdown",
     "checksum": "07bdb0562026f7999d2b728b9d414ba1",
     "grade": false,
     "grade_id": "expl_schema",
     "locked": true,
     "schema_version": 3,
     "solution": false,
     "task": false
    }
   },
   "source": [
    "Podéis observar que la estructura del tweet contiene múltiples campos anidados. Teneis que familiarizaros con esta estructura ya que será la que utilizaremos durante toda la práctica. Recordad también que no todos los tweets tienen todos los campos, como por ejemplo la ubicación (campo ```place```). Cuando esto pasa el campo pasa a ser ```NULL```. Podéis ver mas información sobre este tipo de datos en [este enlace](https://developer.twitter.com/en/docs/tweets/data-dictionary/overview/tweet-object)."
   ]
  },
  {
   "cell_type": "markdown",
   "metadata": {
    "deletable": false,
    "editable": false,
    "nbgrader": {
     "cell_type": "markdown",
     "checksum": "24393a6da55e865e106d621b218acbb5",
     "grade": false,
     "grade_id": "Parte1_2",
     "locked": true,
     "schema_version": 3,
     "solution": false,
     "task": false
    },
    "toc-hr-collapsed": false
   },
   "source": [
    "### **Parte 1.2:** *Queries* sobre sobre data frames complejos\n",
    "\n",
    "En está parte de la práctica veremos cómo hacer consultas sobre el dataset que acabamos de cargar. En la primera parte vamos ha utilizar [sentencias *SQL*](https://www.w3schools.com/sql/default.asp) (como las utilizadas en la mayoria de bases de datos relacionales). Para finalizar veremos un sistema alternativo para hacer consultas utilizando una aproximación más parecida a la que vistéis en la primera PEC. "
   ]
  },
  {
   "cell_type": "markdown",
   "metadata": {
    "deletable": false,
    "editable": false,
    "nbgrader": {
     "cell_type": "markdown",
     "checksum": "46a1f54479914768c21a5995cf4f4f3d",
     "grade": false,
     "grade_id": "parte1_2_1",
     "locked": true,
     "schema_version": 3,
     "solution": false,
     "task": false
    }
   },
   "source": [
    "#### **Parte 1.2.1:** Queries SQL\n",
    "\n",
    "En primer lugar vamos a registrar nuestro DataFrame como una tabla de SQL llamado ```tweets_sample```. Debido a que es posible que repitas esta práctica varias veces, vamos a tomar la precaución de eliminar cualquier tabla existente en primer lugar.\n",
    "\n",
    "Podemos eliminar cualquier tabla SQL existente `tweets_sample` usando la sentencia SQL: `DROP TABLE IF EXISTS tweets_sample`. Para ejecutar un comando sql solo tenéis que utilizar el metodo SQL del objecto contexto, en este caso `sqlContext`.\n",
    "\n",
    "Una vez ejecutado el paso anterior, podemos registrar nuestro DataFrame como una tabla de SQL usando [sqlContext.registerDataFrameAsTable()](https://spark.apache.org/docs/2.4.0/api/python/pyspark.sql.html#pyspark.sql.SQLContext.registerDataFrameAsTable).\n",
    "\n",
    "**Esquema**\n",
    "```Python\n",
    "sqlContext.sql(<FILL IN>)\n",
    "sqlContext.registerDataFrameAsTable(<FILL IN>)\n",
    "```"
   ]
  },
  {
   "cell_type": "code",
   "execution_count": 8,
   "metadata": {
    "deletable": false,
    "nbgrader": {
     "cell_type": "code",
     "checksum": "769f90cf052a4fb5996ca535210f5822",
     "grade": false,
     "grade_id": "registrotabla",
     "locked": false,
     "schema_version": 3,
     "solution": true,
     "task": false
    }
   },
   "outputs": [],
   "source": [
    "sqlContext.sql(\"DROP TABLE IF EXISTS tweets_sample\")\n",
    "sqlContext.registerDataFrameAsTable(tweets_sample, \"tweets_sample\")"
   ]
  },
  {
   "cell_type": "code",
   "execution_count": 9,
   "metadata": {
    "deletable": false,
    "editable": false,
    "nbgrader": {
     "cell_type": "code",
     "checksum": "26ea8b0e7c521e14b87a71e828446a6b",
     "grade": true,
     "grade_id": "cell-8e1ad46863b3e86b",
     "locked": true,
     "points": 0.05,
     "schema_version": 3,
     "solution": false,
     "task": false
    }
   },
   "outputs": [],
   "source": [
    "assert sqlContext.sql(\"SELECT * FROM tweets_sample\").count() == 27268, \"Incorrecct answer\""
   ]
  },
  {
   "cell_type": "code",
   "execution_count": 10,
   "metadata": {},
   "outputs": [
    {
     "name": "stdout",
     "output_type": "stream",
     "text": [
      "+-------------------+----------+----+--------------------+--------------------+--------------------+--------------------+\n",
      "|                _id|created_at|lang|               place|    retweeted_status|                text|                user|\n",
      "+-------------------+----------+----+--------------------+--------------------+--------------------+--------------------+\n",
      "|1122569971345833984|1556476512| und|                null|[1122566927866634...|RT @Ibero_DMJ: 😂...|[2511, 4383, 1069...|\n",
      "|1122570131736006656|1556476550|  pt|                null|                null|@CervantesFAQs @C...|[33, 119, 1030176...|\n",
      "|1122570215445999617|1556476570|  es|                null|[1122561071426998...|RT @rtve: El PSOE...|[1741, 1498, 2503...|\n",
      "|1122570274610851846|1556476584|  es|                null|                null|#SiguemeYTeSigoVo...|[71, 243, 1079050...|\n",
      "|1122570283129479169|1556476586|  es|                null|[1122541491895832...|RT @Aljiuss: Ahí ...|[1, 31, 112249025...|\n",
      "|1122570300904878080|1556476590|  es|[[[[[-5.274768, 3...|                null|Ejemplos de porqu...|[1130, 1029, 5550...|\n",
      "|1122570301940871168|1556476590|  pt|                null|[1122300505810714...|RT @DCM_online: P...|[177, 372, 773690...|\n",
      "|1122570422178938880|1556476619| und|                null|                null|    😂😂😂😂😂😂😂😂|[5808, 507, 13945...|\n",
      "|1122570463962595334|1556476629|  es|                null|[1122570189760028...|RT @Oktubrenotici...|[99, 68, 10570472...|\n",
      "|1122570610381660160|1556476664|  es|                null|[1122523272300548...|RT @_iMperfectB: ...|[543, 426, 155764...|\n",
      "+-------------------+----------+----+--------------------+--------------------+--------------------+--------------------+\n",
      "\n"
     ]
    }
   ],
   "source": [
    "tweets_sample.limit(10).show()"
   ]
  },
  {
   "cell_type": "markdown",
   "metadata": {
    "deletable": false,
    "editable": false,
    "nbgrader": {
     "cell_type": "markdown",
     "checksum": "23b84fdb1f5b55f48e57423a87bbddd3",
     "grade": false,
     "grade_id": "agregar1_2_1",
     "locked": true,
     "schema_version": 3,
     "solution": false,
     "task": false
    }
   },
   "source": [
    "Ahora se os pide que creeis una tabla ```users_agg``` con [la información agregada](https://www.w3schools.com/sql/sql_groupby.asp) de los usuarios que tengan definido su idioma (```user.lang```) como español (```es```). En concreto se os pide que la tabla contenga las siguientes columnas:\n",
    "- **screen_name:** nombre del usuario\n",
    "- **friends_count:** número máximo (ver nota) de personas a las que sigue\n",
    "- **tweets:** número de tweets realizados\n",
    "- **followers_count:** número máximo (ver nota) personas que siguen al usuario.\n",
    "\n",
    "El orden en el cual se deben mostrar los registros es orden descendente acorde al número de tweets.\n",
    "\n",
    "***Nota:*** es importante que os fijéis que el nombre de *friends* i *followers* puede diferir a lo largo de la adquisición de datos. En este caso vamos ha utilizar la función de agregación ```MAX``` sobre cada uno de estos campos para evitar segmentar el usuario en diversas instancias.\n",
    "\n",
    "**Esquema**\n",
    "```Python\n",
    "users_agg = sqlContext.sql(<FILL IN>)\n",
    "users_agg.limit(10).show()\n",
    "```"
   ]
  },
  {
   "cell_type": "code",
   "execution_count": 11,
   "metadata": {
    "deletable": false,
    "nbgrader": {
     "cell_type": "code",
     "checksum": "ca3f2c4b070474037ee65868288ed54b",
     "grade": false,
     "grade_id": "aggregar1_2_1_ans",
     "locked": false,
     "schema_version": 3,
     "solution": true,
     "task": false
    }
   },
   "outputs": [
    {
     "name": "stdout",
     "output_type": "stream",
     "text": [
      "+---------------+-------------+------+---------------+\n",
      "|    screen_name|friends_count|tweets|followers_count|\n",
      "+---------------+-------------+------+---------------+\n",
      "|       anaoromi|         6258|    16|           6774|\n",
      "|    RosaMar6254|         6208|    14|           6245|\n",
      "|        lyuva26|         3088|    13|           3732|\n",
      "|PisandoFuerte10|         2795|    12|           1752|\n",
      "|     carrasquem|          147|    12|            215|\n",
      "|       jasalo54|         1889|    11|            689|\n",
      "|  PabloChabolas|         4925|     9|           4042|\n",
      "|      lolalailo|         4922|     9|           3738|\n",
      "|     Lordcrow11|         5002|     9|           3069|\n",
      "|    DuroBelinda|         5242|     9|           5778|\n",
      "+---------------+-------------+------+---------------+\n",
      "\n"
     ]
    }
   ],
   "source": [
    "users_agg = sqlContext.sql(\"SELECT user.screen_name, max(user.friends_count) as friends_count, count(user.screen_name) as tweets,  max(user.followers_count) as followers_count FROM tweets_sample where user.lang='es' group by user.screen_name order by 3 desc\")\n",
    "users_agg.limit(10).show()"
   ]
  },
  {
   "cell_type": "code",
   "execution_count": 12,
   "metadata": {
    "deletable": false,
    "editable": false,
    "nbgrader": {
     "cell_type": "code",
     "checksum": "1c6d5fadcac19d51cdb929106de1b6b9",
     "grade": true,
     "grade_id": "aggregar1_2_1_test",
     "locked": true,
     "points": 0.3,
     "schema_version": 3,
     "solution": false,
     "task": false
    }
   },
   "outputs": [],
   "source": [
    "output = users_agg.first()\n",
    "assert output.screen_name == 'anaoromi' and output.friends_count == 6258 and output.tweets == 16 and output.followers_count == 6774, \"Incorrect output\""
   ]
  },
  {
   "cell_type": "markdown",
   "metadata": {},
   "source": [
    "Imaginad ahora que queremos combinar la información que acabamos de generar con información acerca del número de veces que un usuario ha sido retuiteado. Para hacer este tipo de combinaciones necesitamos recurrir al [```JOIN``` de tablas](https://www.w3schools.com/sql/sql_join.asp). Primero debemos registrar la tabla que acabamos de generar en el contexto SQL. Recordad que primero debéis comprobar si la tabla existe y en caso afirmativo eliminarla. La tabla tenéis que registrarla bajo el nombre de ```user_agg```."
   ]
  },
  {
   "cell_type": "code",
   "execution_count": 13,
   "metadata": {
    "deletable": false,
    "nbgrader": {
     "cell_type": "code",
     "checksum": "e47591ce898a91d8dc4ac3fe2f664e1f",
     "grade": false,
     "grade_id": "cell-0cd12ff61db691ff",
     "locked": false,
     "schema_version": 3,
     "solution": true,
     "task": false
    }
   },
   "outputs": [],
   "source": [
    "sqlContext.sql(\"DROP TABLE IF EXISTS user_agg\")\n",
    "sqlContext.registerDataFrameAsTable(users_agg, \"user_agg\")"
   ]
  },
  {
   "cell_type": "code",
   "execution_count": 14,
   "metadata": {
    "deletable": false,
    "editable": false,
    "nbgrader": {
     "cell_type": "code",
     "checksum": "811c730709b21f04eaed440760be8db7",
     "grade": true,
     "grade_id": "cell-1aec360ef1068567",
     "locked": true,
     "points": 0.1,
     "schema_version": 3,
     "solution": false,
     "task": false
    }
   },
   "outputs": [],
   "source": [
    "assert sqlContext.sql(\"SELECT * FROM user_agg\").count() == 17925, \"Incorrect answer\""
   ]
  },
  {
   "cell_type": "markdown",
   "metadata": {
    "deletable": false,
    "editable": false,
    "nbgrader": {
     "cell_type": "markdown",
     "checksum": "d059bec9c29fe0b40d18bf31cca22ace",
     "grade": false,
     "grade_id": "join1_2_1",
     "locked": true,
     "schema_version": 3,
     "solution": false,
     "task": false
    }
   },
   "source": [
    "Una vez registrada se pide que combinéis esta tabla y la tabla ```tweets_sample``` utilizando un ```INNER JOIN``` para obtener una nueva tabla con la siguiente información:\n",
    "- ***screen_name:*** nombre de usuario\n",
    "- ***friends_count:*** número máximo de personas a las que sigue\n",
    "- ***followers_count:*** número máximo de personas que siguen al usuario.\n",
    "- ***tweets:*** número de tweets realizados por el usuario.\n",
    "- ***retweeted:*** número de retweets obtenidos por el usuario.\n",
    "- ***ratio_tweet_retweeted:*** ratio de retweets por número de tweets publicados $\\frac{retweets}{tweets}$\n",
    "\n",
    "La tabla resultate tiene que estar ordenada de manera descendente según el valor de la columna ```ratio_tweet_retweeted```\n",
    "\n",
    "**Esquema**\n",
    "```Python\n",
    "retweeted = sqlContext.sql(<FILL IN>)\n",
    "\n",
    "retweeted.limit(10).show()\n",
    "```"
   ]
  },
  {
   "cell_type": "code",
   "execution_count": 15,
   "metadata": {
    "deletable": false,
    "nbgrader": {
     "cell_type": "code",
     "checksum": "213059d3e37115a13c0953f6b27b172c",
     "grade": false,
     "grade_id": "join1_2_1_ans",
     "locked": false,
     "schema_version": 3,
     "solution": true,
     "task": false
    }
   },
   "outputs": [
    {
     "name": "stdout",
     "output_type": "stream",
     "text": [
      "+--------------+------+---------+-------------+---------------+---------------------+\n",
      "|   screen_name|tweets|retweeted|friends_count|followers_count|ratio_tweet_retweeted|\n",
      "+--------------+------+---------+-------------+---------------+---------------------+\n",
      "|          PSOE|     1|      155|        13635|         671073|                155.0|\n",
      "|  CiudadanosCs|     1|      117|        92910|         511896|                117.0|\n",
      "|     JuntsXCat|     1|       73|          202|          88515|                 73.0|\n",
      "|  PartidoPACMA|     1|       63|         1498|         232932|                 63.0|\n",
      "|  pablocasado_|     1|       50|         4567|         238926|                 50.0|\n",
      "|voxnoticias_es|     1|       44|         2146|          29582|                 44.0|\n",
      "|RaiLopezCalvet|     1|       43|         7579|          13574|                 43.0|\n",
      "|        iunida|     1|       39|        10225|         558318|                 39.0|\n",
      "|        Xuxipc|     1|       37|          311|         184967|                 37.0|\n",
      "|       Panik81|     1|       29|         1587|          15374|                 29.0|\n",
      "+--------------+------+---------+-------------+---------------+---------------------+\n",
      "\n"
     ]
    }
   ],
   "source": [
    "retweeted=sqlContext.sql(\"\"\"\n",
    "select B.rt_name as screen_name,MAX(A.tweets) as tweets,MAX(B.retweeted) as retweeted,\n",
    "MAX(A.friends_count) as friends_count,\n",
    "MAX(A.followers_count) as followers_count,\n",
    "MAX(B.retweeted/A.tweets) as ratio_tweet_retweeted \n",
    "\n",
    "FROM user_agg A INNER JOIN\n",
    "(select retweeted_status.user.screen_name as rt_name,\n",
    "count(retweeted_status.user.screen_name) as retweeted\n",
    "from tweets_sample group by retweeted_status.user.screen_name) B \n",
    "ON A.screen_name=B.rt_name GROUP BY B.rt_name ORDER BY retweeted DESC\n",
    "\"\"\")\n",
    "                         \n",
    "retweeted.limit(10).show()"
   ]
  },
  {
   "cell_type": "code",
   "execution_count": 16,
   "metadata": {
    "deletable": false,
    "editable": false,
    "nbgrader": {
     "cell_type": "code",
     "checksum": "fe283a4539a7b90e66b7d4994026387a",
     "grade": true,
     "grade_id": "join1_2_1_test",
     "locked": true,
     "points": 0.3,
     "schema_version": 3,
     "solution": false,
     "task": false
    }
   },
   "outputs": [],
   "source": [
    "output = retweeted.first()\n",
    "assert output.screen_name == 'PSOE' and output.friends_count == 13635 and output.tweets == 1 and output.followers_count == 671073 and output.ratio_tweet_retweeted == 155.0 and output.retweeted == 155, \"Incorrect output\""
   ]
  },
  {
   "cell_type": "markdown",
   "metadata": {
    "deletable": false,
    "editable": false,
    "nbgrader": {
     "cell_type": "markdown",
     "checksum": "2a7c19a14b714e4a487580a3c59749f7",
     "grade": false,
     "grade_id": "part1_2_2",
     "locked": true,
     "schema_version": 3,
     "solution": false,
     "task": false
    }
   },
   "source": [
    "#### **Parte 1.2.2:** Queries a través del pipeline\n",
    "\n",
    "Las tablas de Spark SQL ofrecen otro mecanismo para aplicar las transformaciones y obtener resultados similares a los que se obtendría aplicando una consulta SQL. Por ejemplo utilizando el siguiente pipeline obtendremos el texto de todos los tweets en español:\n",
    "\n",
    "```\n",
    "tweets_sample.where(\"lang == 'es'\").select(\"text\")\n",
    "```\n",
    "\n",
    "Que es equivalente a la siguiente sentencia SQL:\n",
    "\n",
    "```\n",
    "SELECT text\n",
    "FROM tweets_sample\n",
    "WHERE lang == 'es'\n",
    "```\n",
    "\n",
    "Podéis consultar el [API de spark SQL](https://spark.apache.org/docs/2.4.0/api/python/pyspark.sql.html) para encontrar más información sobre como utilitzar las diferentes transformaciones en tablas.\n",
    "\n",
    "En este ejercicio se os pide que repliquéis la query obtenida en el apartado anterior empezando por generar la tabla ```users_agg```. Podéis utilizar las transformaciones ```where```, ```select``` (o ```selectExpr```), ```groupBy```, ```count```, ```agg``` y ```orderBy```\n",
    "\n",
    "**Esquema**\n",
    "```Python\n",
    "users = tweets_sample.where(<FILL IN>).select(<FILL IN>)\n",
    "\n",
    "users_agg = users.groupBy(<FILL IN>)\\\n",
    "                 .agg(<FILL IN>)\\\n",
    "                 .orderBy(<FILL IN>)\n",
    "\n",
    "users_agg.limit(10).show()\n",
    "```"
   ]
  },
  {
   "cell_type": "code",
   "execution_count": 17,
   "metadata": {
    "deletable": false,
    "nbgrader": {
     "cell_type": "code",
     "checksum": "67437fad6a5bf300c6c606d935873056",
     "grade": false,
     "grade_id": "cell-31f4988652579ba9",
     "locked": false,
     "schema_version": 3,
     "solution": true,
     "task": false
    }
   },
   "outputs": [
    {
     "name": "stdout",
     "output_type": "stream",
     "text": [
      "+---------------+------------------+------------------+--------------------+\n",
      "|    screen_name|max(friends_count)|count(screen_name)|max(followers_count)|\n",
      "+---------------+------------------+------------------+--------------------+\n",
      "|       anaoromi|              6258|                16|                6774|\n",
      "|    RosaMar6254|              6208|                14|                6245|\n",
      "|        lyuva26|              3088|                13|                3732|\n",
      "|PisandoFuerte10|              2795|                12|                1752|\n",
      "|     carrasquem|               147|                12|                 215|\n",
      "|       jasalo54|              1889|                11|                 689|\n",
      "|  PabloChabolas|              4925|                 9|                4042|\n",
      "|      lolalailo|              4922|                 9|                3738|\n",
      "|     Lordcrow11|              5002|                 9|                3069|\n",
      "|    DuroBelinda|              5242|                 9|                5778|\n",
      "+---------------+------------------+------------------+--------------------+\n",
      "\n"
     ]
    }
   ],
   "source": [
    "users = tweets_sample.where(\"user.lang == 'es'\").select(\"user.screen_name\", \"user.friends_count\", \"user.followers_count\")\n",
    "\n",
    "users_agg = users.groupBy(\"screen_name\")\\\n",
    "                 .agg({\"screen_name\":\"count\", \"friends_count\": \"max\", \"followers_count\": \"max\"})\\\n",
    "                 .orderBy(\"count(screen_name)\", ascending=False)\n",
    "                 \n",
    "\n",
    "users_agg.limit(10).show()\n"
   ]
  },
  {
   "cell_type": "code",
   "execution_count": 18,
   "metadata": {
    "deletable": false,
    "editable": false,
    "nbgrader": {
     "cell_type": "code",
     "checksum": "d3b5dee302ffc0075fc2650be934555e",
     "grade": true,
     "grade_id": "cell-1314e0736f9f4584",
     "locked": true,
     "points": 0.125,
     "schema_version": 3,
     "solution": false,
     "task": false
    }
   },
   "outputs": [],
   "source": [
    "output = users_agg.first()\n",
    "assert output.screen_name == 'anaoromi'"
   ]
  },
  {
   "cell_type": "markdown",
   "metadata": {
    "deletable": false,
    "editable": false,
    "nbgrader": {
     "cell_type": "markdown",
     "checksum": "b3e2129892e8b74df0e6e33b42159d80",
     "grade": false,
     "grade_id": "cell-d9521e35c564cc7b",
     "locked": true,
     "schema_version": 3,
     "solution": false,
     "task": false
    }
   },
   "source": [
    "Si os fijáis veréis que el nombre de las columnas no corresponde con el obtenido anteriormente, podéis cambiar el nombre de una columna determinada utilizando la transformación ```withColumnRenamed```. Cambiad el nombre de las columnas para que coincidan con el apartado anterior y guardadlas en una variable ```user_agg_new```.\n",
    "\n",
    "**Esquema**\n",
    "```Python\n",
    "users_agg_new = users_agg.withColumnRenamed(<FILL IN>)\\\n",
    "                         .withColumnRenamed(<FILL IN>)\\\n",
    "                         .withColumnRenamed(<FILL IN>)\n",
    "\n",
    "users_agg_new.limit(10).show()\n",
    "```"
   ]
  },
  {
   "cell_type": "code",
   "execution_count": 19,
   "metadata": {
    "deletable": false,
    "nbgrader": {
     "cell_type": "code",
     "checksum": "e0fcbf7beb9dd084688badbb00b0f079",
     "grade": false,
     "grade_id": "cell-6ac270f9e0f90d1e",
     "locked": false,
     "schema_version": 3,
     "solution": true,
     "task": false
    }
   },
   "outputs": [
    {
     "name": "stdout",
     "output_type": "stream",
     "text": [
      "+---------------+-------------+------+---------------+\n",
      "|    screen_name|friends_count|tweets|followers_count|\n",
      "+---------------+-------------+------+---------------+\n",
      "|       anaoromi|         6258|    16|           6774|\n",
      "|    RosaMar6254|         6208|    14|           6245|\n",
      "|        lyuva26|         3088|    13|           3732|\n",
      "|PisandoFuerte10|         2795|    12|           1752|\n",
      "|     carrasquem|          147|    12|            215|\n",
      "|       jasalo54|         1889|    11|            689|\n",
      "|  PabloChabolas|         4925|     9|           4042|\n",
      "|      lolalailo|         4922|     9|           3738|\n",
      "|     Lordcrow11|         5002|     9|           3069|\n",
      "|    DuroBelinda|         5242|     9|           5778|\n",
      "+---------------+-------------+------+---------------+\n",
      "\n"
     ]
    }
   ],
   "source": [
    "users_agg_new= users_agg.withColumnRenamed('max(friends_count)','friends_count')\\\n",
    "                         .withColumnRenamed('count(screen_name)','tweets')\\\n",
    "                         .withColumnRenamed('max(followers_count)','followers_count')\n",
    "\n",
    "users_agg_new.limit(10).show()"
   ]
  },
  {
   "cell_type": "code",
   "execution_count": 20,
   "metadata": {
    "deletable": false,
    "editable": false,
    "nbgrader": {
     "cell_type": "code",
     "checksum": "81250f3c4440dbca15f96db6fbd3d18f",
     "grade": true,
     "grade_id": "cell-a44780017b5b62c9",
     "locked": true,
     "points": 0.15,
     "schema_version": 3,
     "solution": false,
     "task": false
    }
   },
   "outputs": [],
   "source": [
    "output = users_agg_new.first()\n",
    "assert output.screen_name == 'anaoromi' and output.friends_count == 6258 and output.tweets == 16 and output.followers_count == 6774, \"Incorrect output\""
   ]
  },
  {
   "cell_type": "markdown",
   "metadata": {
    "deletable": false,
    "editable": false,
    "nbgrader": {
     "cell_type": "markdown",
     "checksum": "9606848b30360df3d20cc8b930d18ef6",
     "grade": false,
     "grade_id": "cell-29eff3e98104dff3",
     "locked": true,
     "schema_version": 3,
     "solution": false,
     "task": false
    }
   },
   "source": [
    "Cread ahora una tabla ```user_retweets``` utilizando transformaciones que contenga dos columnas:\n",
    "- ***screen_name:*** nombre de usuario\n",
    "- ***retweeted:*** número de retweets\n",
    "\n",
    "Podéis utilizar las mismas transformaciones que en el ejercicio anterior. Ordenad la tabla en orden descendente utilizando el valor de la columna ```retweeted```.\n",
    "\n",
    "**Esquema**\n",
    "```Python\n",
    "user_retweets = tweets_sample.<FILL IN>\n",
    "\n",
    "user_retweets.limit(10).show()\n",
    "```"
   ]
  },
  {
   "cell_type": "code",
   "execution_count": 21,
   "metadata": {
    "deletable": false,
    "nbgrader": {
     "cell_type": "code",
     "checksum": "8c1a0966187fe8e923b31201eaddedc2",
     "grade": false,
     "grade_id": "cell-7e10fbd5ae8b6f53",
     "locked": false,
     "schema_version": 3,
     "solution": true,
     "task": false
    }
   },
   "outputs": [
    {
     "name": "stdout",
     "output_type": "stream",
     "text": [
      "+--------------+------------------+\n",
      "|   screen_name|count(screen_name)|\n",
      "+--------------+------------------+\n",
      "|        vox_es|               299|\n",
      "|  ahorapodemos|               238|\n",
      "| Santi_ABASCAL|               238|\n",
      "|      iescolar|               166|\n",
      "| AlbanoDante76|               161|\n",
      "|          PSOE|               155|\n",
      "|AntonioMaestre|               154|\n",
      "|          KRLS|               149|\n",
      "|        boye_g|               142|\n",
      "|  CiudadanosCs|               117|\n",
      "+--------------+------------------+\n",
      "\n"
     ]
    }
   ],
   "source": [
    "user_retweets = tweets_sample.select(\"retweeted_status.user.screen_name\")\\\n",
    "                             .groupBy(\"screen_name\")\\\n",
    "                             .agg({\"screen_name\": \"count\"})\\\n",
    "                             .orderBy(\"count(screen_name)\", ascending=False)\n",
    "user_retweets.limit(10).show() "
   ]
  },
  {
   "cell_type": "code",
   "execution_count": 22,
   "metadata": {},
   "outputs": [],
   "source": [
    "user_retweets=user_retweets.withColumnRenamed('count(screen_name)','retweeted')"
   ]
  },
  {
   "cell_type": "code",
   "execution_count": 23,
   "metadata": {
    "deletable": false,
    "editable": false,
    "nbgrader": {
     "cell_type": "code",
     "checksum": "31688376512e22f1abe18ee737d14394",
     "grade": true,
     "grade_id": "cell-fc4c41133d08ec25",
     "locked": true,
     "points": 0.45,
     "schema_version": 3,
     "solution": false,
     "task": false
    }
   },
   "outputs": [],
   "source": [
    "output = user_retweets.first()\n",
    "assert output.screen_name == 'vox_es' and output.retweeted == 299, \"Incorrect output\""
   ]
  },
  {
   "cell_type": "markdown",
   "metadata": {
    "deletable": false,
    "editable": false,
    "nbgrader": {
     "cell_type": "markdown",
     "checksum": "01a58b103dfcf5829a07c7619927eeef",
     "grade": false,
     "grade_id": "cell-eddb113c8541c8c2",
     "locked": true,
     "schema_version": 3,
     "solution": false,
     "task": false
    }
   },
   "source": [
    "Otra manera de combinar dos tablas es utilizando el [metodo de tabla ```join```](https://spark.apache.org/docs/2.4.0/api/python/pyspark.sql.html). Combinad la información de la tabla ```users_agg_new``` y ```user_retweets``` en una nueva tabla ```retweeted``` utilizando la columna ```screen_name```. Ordenad la nueva tabla en orden descendente con el nombre de retweets.\n",
    "\n",
    "**Esquema**\n",
    "\n",
    "```Python\n",
    "retweeted = users_agg_new.join(<FILL IN>)\\\n",
    "                         .orderBy(<FILL IN>)\n",
    "\n",
    "retweeted.limit(10).show()\n",
    "```"
   ]
  },
  {
   "cell_type": "code",
   "execution_count": 24,
   "metadata": {
    "deletable": false,
    "nbgrader": {
     "cell_type": "code",
     "checksum": "bd7e752647a3281d956431f38b6a6d4d",
     "grade": false,
     "grade_id": "cell-e0fb48703c8222c2",
     "locked": false,
     "schema_version": 3,
     "solution": true,
     "task": false
    }
   },
   "outputs": [
    {
     "name": "stdout",
     "output_type": "stream",
     "text": [
      "+--------------+-------------+------+---------------+--------------+---------+\n",
      "|   screen_name|friends_count|tweets|followers_count|   screen_name|retweeted|\n",
      "+--------------+-------------+------+---------------+--------------+---------+\n",
      "|          PSOE|        13635|     1|         671073|          PSOE|      155|\n",
      "|  CiudadanosCs|        92910|     1|         511896|  CiudadanosCs|      117|\n",
      "|     JuntsXCat|          202|     1|          88515|     JuntsXCat|       73|\n",
      "|  PartidoPACMA|         1498|     1|         232932|  PartidoPACMA|       63|\n",
      "|  pablocasado_|         4567|     1|         238926|  pablocasado_|       50|\n",
      "|voxnoticias_es|         2146|     1|          29582|voxnoticias_es|       44|\n",
      "|RaiLopezCalvet|         7579|     1|          13574|RaiLopezCalvet|       43|\n",
      "|        iunida|        10225|     1|         558318|        iunida|       39|\n",
      "|        Xuxipc|          311|     1|         184967|        Xuxipc|       37|\n",
      "|       Panik81|         1587|     1|          15374|       Panik81|       29|\n",
      "+--------------+-------------+------+---------------+--------------+---------+\n",
      "\n"
     ]
    }
   ],
   "source": [
    "retweeted = users_agg_new.join(user_retweets, users_agg_new.screen_name==user_retweets.screen_name )\\\n",
    "                         .orderBy(user_retweets.retweeted, ascending=False)\n",
    "retweeted.limit(10).show()"
   ]
  },
  {
   "cell_type": "code",
   "execution_count": 25,
   "metadata": {
    "deletable": false,
    "editable": false,
    "nbgrader": {
     "cell_type": "code",
     "checksum": "9cb6d5638c55323d7bdbc623c6ac91bb",
     "grade": true,
     "grade_id": "cell-b98ce38ed786a428",
     "locked": true,
     "points": 0.15,
     "schema_version": 3,
     "solution": false,
     "task": false
    }
   },
   "outputs": [],
   "source": [
    "output = retweeted.first()\n",
    "assert output.screen_name == 'PSOE' and output.friends_count == 13635 and output.tweets == 1 and output.followers_count == 671073 and output.retweeted == 155, \"Incorrect output\""
   ]
  },
  {
   "cell_type": "markdown",
   "metadata": {
    "deletable": false,
    "editable": false,
    "nbgrader": {
     "cell_type": "markdown",
     "checksum": "0b34b8bd27d0d50bb7bf6e4e9dba94ef",
     "grade": false,
     "grade_id": "cell-840198884f74f93e",
     "locked": true,
     "schema_version": 3,
     "solution": false,
     "task": false
    }
   },
   "source": [
    "Notaréis que algunos de los registros que aparecen en la tabla ```users_retweeted``` no están presentes en la tabla retweeted. Esto es debido a que, por defecto, el método aplica un inner join y por tanto solo combina los registros presentes en ambas tablas. Podéis cambiar este comportamiento a través de los parámetros de la función.\n",
    "\n",
    "Para terminar esta parte y reconstruir el resultado del apartado 1.2.1 vamos a añadir una columna ```ratio_tweet_retweeted``` con información del ratio entre retweets y tweets. Para ello debéis utilizar la transformación ```withColumn```. El resultado debe estar ordenado considerando esta nueva columna en orden descendente.\n",
    "\n",
    "**Esquema**\n",
    "```Python\n",
    "retweeted = retweeted.withColumn(<FILL IN>)\n",
    "retweeted.limit(10).show()\n",
    "```"
   ]
  },
  {
   "cell_type": "code",
   "execution_count": 26,
   "metadata": {
    "deletable": false,
    "nbgrader": {
     "cell_type": "code",
     "checksum": "32511e269bdb031e456d50ac9381f6cb",
     "grade": false,
     "grade_id": "cell-d5842b06bc796b93",
     "locked": false,
     "schema_version": 3,
     "solution": true,
     "task": false
    }
   },
   "outputs": [
    {
     "name": "stdout",
     "output_type": "stream",
     "text": [
      "+--------------+-------------+------+---------------+--------------+---------+---------------------+\n",
      "|   screen_name|friends_count|tweets|followers_count|   screen_name|retweeted|ratio_tweet_retweeted|\n",
      "+--------------+-------------+------+---------------+--------------+---------+---------------------+\n",
      "|          PSOE|        13635|     1|         671073|          PSOE|      155|                155.0|\n",
      "|  CiudadanosCs|        92910|     1|         511896|  CiudadanosCs|      117|                117.0|\n",
      "|     JuntsXCat|          202|     1|          88515|     JuntsXCat|       73|                 73.0|\n",
      "|  PartidoPACMA|         1498|     1|         232932|  PartidoPACMA|       63|                 63.0|\n",
      "|  pablocasado_|         4567|     1|         238926|  pablocasado_|       50|                 50.0|\n",
      "|voxnoticias_es|         2146|     1|          29582|voxnoticias_es|       44|                 44.0|\n",
      "|RaiLopezCalvet|         7579|     1|          13574|RaiLopezCalvet|       43|                 43.0|\n",
      "|        iunida|        10225|     1|         558318|        iunida|       39|                 39.0|\n",
      "|        Xuxipc|          311|     1|         184967|        Xuxipc|       37|                 37.0|\n",
      "|       Panik81|         1587|     1|          15374|       Panik81|       29|                 29.0|\n",
      "+--------------+-------------+------+---------------+--------------+---------+---------------------+\n",
      "\n"
     ]
    }
   ],
   "source": [
    "retweeted = retweeted.withColumn(\"ratio_tweet_retweeted\", retweeted.retweeted/retweeted.tweets)\n",
    "retweeted.limit(10).show()"
   ]
  },
  {
   "cell_type": "code",
   "execution_count": 27,
   "metadata": {
    "deletable": false,
    "editable": false,
    "nbgrader": {
     "cell_type": "code",
     "checksum": "b2a8255d890716b9f9e81c51f06f0f62",
     "grade": true,
     "grade_id": "cell-e2dd111524c30b55",
     "locked": true,
     "points": 0.125,
     "schema_version": 3,
     "solution": false,
     "task": false
    }
   },
   "outputs": [],
   "source": [
    "output = retweeted.first()\n",
    "assert output.screen_name == 'PSOE' and output.friends_count == 13635 and output.tweets == 1 and output.followers_count == 671073 and output.ratio_tweet_retweeted == 155.0 and output.retweeted == 155, \"Incorrect output\""
   ]
  },
  {
   "cell_type": "markdown",
   "metadata": {
    "deletable": false,
    "editable": false,
    "nbgrader": {
     "cell_type": "markdown",
     "checksum": "06ba4b982376405df66e72ed76bf99a8",
     "grade": false,
     "grade_id": "cell-232f10e55e87ad12",
     "locked": true,
     "schema_version": 3,
     "solution": false,
     "task": false
    },
    "toc-hr-collapsed": false
   },
   "source": [
    "## **Parte 2:** Bases de datos HIVE y operaciones complejas\n",
    "\n",
    "Hasta ahora hemos estado trabajando con un pequeño sample de los tweets generados (el 0.1%). En esta parte de la PEC vamos a ver como trabajar y tratar con el dataset completo. Para ello vamos ha utilizar tanto transformaciones sobre tablas como operaciones sobre RDD cuando sea necesario."
   ]
  },
  {
   "cell_type": "markdown",
   "metadata": {
    "deletable": false,
    "editable": false,
    "nbgrader": {
     "cell_type": "markdown",
     "checksum": "916575bead18d5e98c2e6376f9926a20",
     "grade": false,
     "grade_id": "cell-0b416ba9bc3ed03d",
     "locked": true,
     "schema_version": 3,
     "solution": false,
     "task": false
    }
   },
   "source": [
    "### **Parte 2.1:** Bases de datos Hive\n",
    "\n",
    "Muchas veces los datos con los que vamos ha trabajar se van a utilizar en diversos proyectos. Una manera de organizar los datos es, en lugar de utilizar directamente los ficheros, recurrir a una base de datos para gestionar la información. En el entorno Hadoop una de las bases de datos más utilizadas es [Apache Hive](https://hive.apache.org/), una base de datos que permite trabajar con contenido distribuido.\n",
    "\n",
    "La manera de acceder a esta base de datos es creando un contexto Hive de manera muy similar a como declaramos un contexto SQL. Primero vamos a declarar un variable ```hiveContext``` instanciándola como un objeto de la classe ```HiveContext```. Acto seguido vamos a comprobar cuantas tablas están registradas en este contexto.\n",
    "\n",
    "**Esquema**\n",
    "```Python\n",
    "hiveContext = <FILL IN>\n",
    "hiveContext.tables().show()\n",
    "```"
   ]
  },
  {
   "cell_type": "code",
   "execution_count": 28,
   "metadata": {
    "deletable": false,
    "nbgrader": {
     "cell_type": "code",
     "checksum": "a212d9c1805f8c0305a8b5742528c597",
     "grade": true,
     "grade_id": "cell-c1fea886f6bfbcbf",
     "locked": false,
     "points": 0.125,
     "schema_version": 3,
     "solution": true,
     "task": false
    }
   },
   "outputs": [
    {
     "name": "stdout",
     "output_type": "stream",
     "text": [
      "+--------+------------------+-----------+\n",
      "|database|         tableName|isTemporary|\n",
      "+--------+------------------+-----------+\n",
      "| default|            d_pais|      false|\n",
      "| default| d_tipo_habitacion|      false|\n",
      "| default|      province_28a|      false|\n",
      "| default|         tweets28a|      false|\n",
      "| default|     tweets28afull|      false|\n",
      "| default|tweets28a_sample25|      false|\n",
      "| default|         user_info|      false|\n",
      "| default|     user_info_old|      false|\n",
      "|        |     tweets_sample|       true|\n",
      "|        |          user_agg|       true|\n",
      "+--------+------------------+-----------+\n",
      "\n"
     ]
    }
   ],
   "source": [
    "hiveContext = HiveContext(sc)\n",
    "hiveContext.tables().show()"
   ]
  },
  {
   "cell_type": "markdown",
   "metadata": {},
   "source": [
    "Observad que ahora mismo tenemos siete tablas registradas en este contexto. Cinco de ellas no temporales y dos temporales, las que hemos registrado previamente. Por tanto sqlContext y hiveContext están concetados (es la misma sessión)\n",
    "\n",
    "Vamos ha crear una variable ```tweets``` que utilizaremos para acceder a la tabla ```tweets28a_sample25``` guardada en ```hiveContext``` utilizando para ello el método ```table()``` de este objeto.\n",
    "\n",
    "**Esquema**\n",
    "```Python\n",
    "tweets = <FILL IN>\n",
    "print(\"Loaded dataset contains {} tweets\".format(tweets.count()))\n",
    "```"
   ]
  },
  {
   "cell_type": "code",
   "execution_count": 29,
   "metadata": {
    "deletable": false,
    "nbgrader": {
     "cell_type": "code",
     "checksum": "dee44c06e36300fcfd220842fc04d255",
     "grade": false,
     "grade_id": "cell-597891dd2d613c09",
     "locked": false,
     "schema_version": 3,
     "solution": true,
     "task": false
    }
   },
   "outputs": [
    {
     "name": "stdout",
     "output_type": "stream",
     "text": [
      "Loaded dataset contains 6354961 tweets\n"
     ]
    }
   ],
   "source": [
    "tweets = hiveContext.table(\"tweets28a_sample25\")\n",
    "print(\"Loaded dataset contains {} tweets\".format(tweets.count()))"
   ]
  },
  {
   "cell_type": "code",
   "execution_count": 30,
   "metadata": {
    "deletable": false,
    "editable": false,
    "nbgrader": {
     "cell_type": "code",
     "checksum": "d05bd885de8e0b2d5068da8efce897c8",
     "grade": true,
     "grade_id": "cell-2da5fa7df4970547",
     "locked": true,
     "points": 0.0625,
     "schema_version": 3,
     "solution": false,
     "task": false
    }
   },
   "outputs": [],
   "source": [
    "assert tweets.count() == 6354961, \"Incorrect Answer\""
   ]
  },
  {
   "cell_type": "markdown",
   "metadata": {
    "deletable": false,
    "editable": false,
    "nbgrader": {
     "cell_type": "markdown",
     "checksum": "300b1d7d914b99cc2bbea836601c7a19",
     "grade": false,
     "grade_id": "cell-38bf6de2954151dd",
     "locked": true,
     "schema_version": 3,
     "solution": false,
     "task": false
    }
   },
   "source": [
    "Utilizando el mismo método que en el apartado 1.1, comprobad la estructura de la tabla que acabamos de cargar."
   ]
  },
  {
   "cell_type": "code",
   "execution_count": 31,
   "metadata": {
    "deletable": false,
    "nbgrader": {
     "cell_type": "code",
     "checksum": "45a95c132bae9c32a2aff7b3d0a7669b",
     "grade": true,
     "grade_id": "cell-ef350e58ac316978",
     "locked": false,
     "points": 0.0625,
     "schema_version": 3,
     "solution": true,
     "task": false
    }
   },
   "outputs": [
    {
     "name": "stdout",
     "output_type": "stream",
     "text": [
      "root\n",
      " |-- _id: string (nullable = true)\n",
      " |-- created_at: timestamp (nullable = true)\n",
      " |-- lang: string (nullable = true)\n",
      " |-- place: struct (nullable = true)\n",
      " |    |-- bounding_box: struct (nullable = true)\n",
      " |    |    |-- coordinates: array (nullable = true)\n",
      " |    |    |    |-- element: array (containsNull = true)\n",
      " |    |    |    |    |-- element: array (containsNull = true)\n",
      " |    |    |    |    |    |-- element: double (containsNull = true)\n",
      " |    |    |-- type: string (nullable = true)\n",
      " |    |-- country_code: string (nullable = true)\n",
      " |    |-- id: string (nullable = true)\n",
      " |    |-- name: string (nullable = true)\n",
      " |    |-- place_type: string (nullable = true)\n",
      " |-- retweeted_status: struct (nullable = true)\n",
      " |    |-- _id: string (nullable = true)\n",
      " |    |-- user: struct (nullable = true)\n",
      " |    |    |-- followers_count: long (nullable = true)\n",
      " |    |    |-- friends_count: long (nullable = true)\n",
      " |    |    |-- id_str: string (nullable = true)\n",
      " |    |    |-- lang: string (nullable = true)\n",
      " |    |    |-- screen_name: string (nullable = true)\n",
      " |    |    |-- statuses_count: long (nullable = true)\n",
      " |-- text: string (nullable = true)\n",
      " |-- user: struct (nullable = true)\n",
      " |    |-- followers_count: long (nullable = true)\n",
      " |    |-- friends_count: long (nullable = true)\n",
      " |    |-- id_str: string (nullable = true)\n",
      " |    |-- lang: string (nullable = true)\n",
      " |    |-- screen_name: string (nullable = true)\n",
      " |    |-- statuses_count: long (nullable = true)\n",
      "\n"
     ]
    }
   ],
   "source": [
    "tweets.printSchema()"
   ]
  },
  {
   "cell_type": "markdown",
   "metadata": {
    "deletable": false,
    "editable": false,
    "nbgrader": {
     "cell_type": "markdown",
     "checksum": "0702b9bdb5f63e55c7712e1413e3f676",
     "grade": false,
     "grade_id": "cell-594eb699f3c4f56f",
     "locked": true,
     "schema_version": 3,
     "solution": false,
     "task": false
    },
    "toc-hr-collapsed": false
   },
   "source": [
    "### **Parte 2.2:** Más allá de las transformaciones SQL\n",
    "\n",
    "Algunas veces vamos a necesitar obtener resultados que precisan operaciones que van más allá de lo que podemos conseguir utilizando el lenguaje SQL. En esta parte de la práctica vamos practicar cómo pasar de una tabla a un RDD, para hacer operaciones complejas, y luego volver a pasar a una tabla."
   ]
  },
  {
   "cell_type": "markdown",
   "metadata": {
    "deletable": false,
    "editable": false,
    "nbgrader": {
     "cell_type": "markdown",
     "checksum": "7483c3b97e3f5a7a4f446d85d06ab7ed",
     "grade": false,
     "grade_id": "cell-8d0734c219f082d0",
     "locked": true,
     "schema_version": 3,
     "solution": false,
     "task": false
    },
    "toc-hr-collapsed": false
   },
   "source": [
    "#### **Parte 2.2.1:** Tweets por población\n",
    "##### **Parte 2.2.1.1:** Utilizando SQL\n",
    "Un pequeño porcentaje, alrededor del 1%, de los tweets realizados está geolocalizado. Eso quiere decir que para estos tweets tenemos información acerca del lugar donde han sido realizados guardado en el campo ```place```. En este ejercicio se pide que utilizando una sentencia SQL mostréis en orden descendente cuántos tweets se han realizado en cada lugar. La tabla resultante ```tweets_place``` debe tener las siguientes columnas:\n",
    "- ***name:*** nombre del lugar\n",
    "- ***tweets:*** número de tweets\n",
    "\n",
    "Recordad que no todos los tweets en la base de datos tienen que tener información geolocalizada, tenéis que filtrarlos teniendo en cuenta todos los que tienen un valor no nulo. La tabla tiene que estar en order descendente por numero de tweets.\n",
    "\n",
    "**Esquema**\n",
    "```Python\n",
    "tweets_place = hiveContext.sql(<FILL IN>)\n",
    "tweets_place.limit(10).show()\n",
    "```"
   ]
  },
  {
   "cell_type": "code",
   "execution_count": 32,
   "metadata": {
    "deletable": false,
    "nbgrader": {
     "cell_type": "code",
     "checksum": "0c70f032337b535ace2ee7938f3de91f",
     "grade": false,
     "grade_id": "cell-894db3dca0f080ea",
     "locked": false,
     "schema_version": 3,
     "solution": true,
     "task": false
    }
   },
   "outputs": [
    {
     "name": "stdout",
     "output_type": "stream",
     "text": [
      "+-----------+------+\n",
      "|       name|tweets|\n",
      "+-----------+------+\n",
      "|     Madrid|  4911|\n",
      "|  Barcelona|  3481|\n",
      "|    Sevilla|   959|\n",
      "|   Valencia|   689|\n",
      "|   Zaragoza|   597|\n",
      "|Villamartín|   570|\n",
      "|     Málaga|   546|\n",
      "|     Murcia|   461|\n",
      "|      Palma|   416|\n",
      "|   Alicante|   407|\n",
      "+-----------+------+\n",
      "\n"
     ]
    }
   ],
   "source": [
    "tweets_place = hiveContext.sql(\"select place.name, count(place.name) as tweets from tweets28a_sample25 where place is not NULL group by place.name  order by 2 desc\")\n",
    "tweets_place.limit(10).show()"
   ]
  },
  {
   "cell_type": "code",
   "execution_count": 33,
   "metadata": {},
   "outputs": [],
   "source": [
    "sqlContext.sql(\"DROP TABLE IF EXISTS tweets_place\")\n",
    "sqlContext.registerDataFrameAsTable(tweets_place, \"tweets_place\")"
   ]
  },
  {
   "cell_type": "code",
   "execution_count": 34,
   "metadata": {
    "deletable": false,
    "editable": false,
    "nbgrader": {
     "cell_type": "code",
     "checksum": "35be4259da0f97caef67aeb240405799",
     "grade": true,
     "grade_id": "cell-c4cf795341edf5b3",
     "locked": true,
     "points": 0.25,
     "schema_version": 3,
     "solution": false,
     "task": false
    }
   },
   "outputs": [],
   "source": [
    "output = tweets_place.first()\n",
    "assert output.name == \"Madrid\" and output.tweets == 4911, \"Incorrect output\""
   ]
  },
  {
   "cell_type": "markdown",
   "metadata": {
    "deletable": false,
    "editable": false,
    "nbgrader": {
     "cell_type": "markdown",
     "checksum": "7e9cfede2ad8a788bd0736c9606969c0",
     "grade": false,
     "grade_id": "cell-eb9c24d0b500613c",
     "locked": true,
     "schema_version": 3,
     "solution": false,
     "task": false
    }
   },
   "source": [
    "##### **Parte 2.2.1.2:** Utilizando RDD\n",
    "\n",
    "Ahora se os pide que hagáis lo mismo pero esta vez utilizando RDD para realizar la agregación (recordad los ejercicios de contar palabras que hicisteis en la PEC 1).\n",
    "\n",
    "El primer paso consiste en generar un tabla ```tweets_geo``` que solo contenga información de tweets geolocalizados con una sola columna:\n",
    "- ***name:*** nombre del lugar desde donde se ha generado el tweet\n",
    "\n",
    "**Esquema**\n",
    "```Python\n",
    "tweets_geo = <FILL IN>\n",
    "```"
   ]
  },
  {
   "cell_type": "code",
   "execution_count": 35,
   "metadata": {
    "deletable": false,
    "nbgrader": {
     "cell_type": "code",
     "checksum": "bbe1888f913198cc3cb6353e6be88bba",
     "grade": false,
     "grade_id": "cell-d3f8a6734cec62e5",
     "locked": false,
     "schema_version": 3,
     "solution": true,
     "task": false
    }
   },
   "outputs": [],
   "source": [
    "tweets_geo = hiveContext.sql(\"select place.name from tweets28a_sample25 where place is not NULL\")"
   ]
  },
  {
   "cell_type": "code",
   "execution_count": 36,
   "metadata": {},
   "outputs": [
    {
     "name": "stdout",
     "output_type": "stream",
     "text": [
      "+--------------------+\n",
      "|                name|\n",
      "+--------------------+\n",
      "|           Barcelona|\n",
      "|            Palencia|\n",
      "|              Murcia|\n",
      "|            Marbella|\n",
      "|           Barcelona|\n",
      "|             Camargo|\n",
      "|             Calella|\n",
      "|Sant Quirze del V...|\n",
      "|San Cristóbal de ...|\n",
      "|             Sevilla|\n",
      "+--------------------+\n",
      "\n"
     ]
    }
   ],
   "source": [
    "tweets_geo.limit(10).show()"
   ]
  },
  {
   "cell_type": "code",
   "execution_count": 37,
   "metadata": {
    "deletable": false,
    "editable": false,
    "nbgrader": {
     "cell_type": "code",
     "checksum": "d70fa2bb8e7f709d28e37a1fa2b115f1",
     "grade": true,
     "grade_id": "cell-a80661a525cbf003",
     "locked": true,
     "points": 0.125,
     "schema_version": 3,
     "solution": false,
     "task": false
    }
   },
   "outputs": [],
   "source": [
    "assert tweets_geo.count() == 44477, \"Incorrect answer\""
   ]
  },
  {
   "cell_type": "markdown",
   "metadata": {
    "deletable": false,
    "editable": false,
    "nbgrader": {
     "cell_type": "markdown",
     "checksum": "0cb4304488195bbefcb50892d4257637",
     "grade": false,
     "grade_id": "cell-1cb95ba661c79484",
     "locked": true,
     "schema_version": 3,
     "solution": false,
     "task": false
    }
   },
   "source": [
    "Ahora viene la parte interesante. Una tabla puede convertirse en un RDD a través del atributo ```.rdd```. Este atributo guarda la información de la tabla en una lista donde cada elemento es un [objeto del tipo ```Row```](https://spark.apache.org/docs/2.4.0/api/python/pyspark.sql.html#pyspark.sql.Row). Los objetos pertenecientes a esta clase pueden verse como diccionarios donde la información de las diferentes columnas queda reflejada en forma de atributo. Por ejemplo, imaginad que tenemos una tabla con dos columnas, nombre y apellido, si utilizamos el atributo ```.rdd``` de dicha tabla obtendremos una lista con objetos del tipo row donde cada objeto tiene dos atributos: nombre y apellido. Para acceder a los atributos solo tenéis que utilizar la sintaxis *punto* de Python, e.g., ```row.nombre``` o ```row.apellido```.\n",
    "\n",
    "En esta parte del ejercicio se os pide que creeis un objeto ```tweets_lang_rdd``` que contenga una lista de tuplas con la información ```(name, tweets)``` sobre el nombre del lugar y el número de tweets generados desde allí. Recordad el ejercicio de contar palabras de la PEC 1.\n",
    "\n",
    "**Esquema**\n",
    "```Python\n",
    "tweets_place_rdd = tweets_geo.<FILL IN>\n",
    "```"
   ]
  },
  {
   "cell_type": "code",
   "execution_count": 38,
   "metadata": {
    "deletable": false,
    "nbgrader": {
     "cell_type": "code",
     "checksum": "4705a8a52eed12c1b0d7a8c1116a0e75",
     "grade": false,
     "grade_id": "cell-4509d0316eec4998",
     "locked": false,
     "schema_version": 3,
     "solution": true,
     "task": false
    }
   },
   "outputs": [
    {
     "data": {
      "text/plain": [
       "[Row(name='Barcelona'),\n",
       " Row(name='Palencia'),\n",
       " Row(name='Murcia'),\n",
       " Row(name='Marbella'),\n",
       " Row(name='Barcelona')]"
      ]
     },
     "execution_count": 38,
     "metadata": {},
     "output_type": "execute_result"
    }
   ],
   "source": [
    "tweets_place_rdd = tweets_geo.rdd\n",
    "tweets_place_rdd.take(5)"
   ]
  },
  {
   "cell_type": "code",
   "execution_count": 39,
   "metadata": {},
   "outputs": [
    {
     "data": {
      "text/plain": [
       "[('Madrid', 4911),\n",
       " ('Barcelona', 3481),\n",
       " ('Sevilla', 959),\n",
       " ('Valencia', 689),\n",
       " ('Zaragoza', 597),\n",
       " ('Villamartín', 570),\n",
       " ('Málaga', 546),\n",
       " ('Murcia', 461),\n",
       " ('Palma', 416),\n",
       " ('Alicante', 407),\n",
       " ('Granada', 405),\n",
       " ('Gijón', 338),\n",
       " ('Valladolid', 334),\n",
       " ('Oviedo', 329),\n",
       " ('Las Palmas de Gran Canaria', 326)]"
      ]
     },
     "execution_count": 39,
     "metadata": {},
     "output_type": "execute_result"
    }
   ],
   "source": [
    "tweets_place_rdd=tweets_place_rdd.map(lambda x: (x[0], 1)).reduceByKey(lambda a, b: a+b).sortBy(lambda x: x[1], ascending=False)\n",
    "tweets_place_rdd.take(15)"
   ]
  },
  {
   "cell_type": "code",
   "execution_count": 40,
   "metadata": {
    "deletable": false,
    "editable": false,
    "nbgrader": {
     "cell_type": "code",
     "checksum": "dafe55f461433114789884e094bde7f6",
     "grade": true,
     "grade_id": "cell-01a10584947205a8",
     "locked": true,
     "points": 0.5,
     "schema_version": 3,
     "solution": false,
     "task": false
    }
   },
   "outputs": [],
   "source": [
    "assert tweets_place_rdd.count() == 4038, \"Incorrect output\""
   ]
  },
  {
   "cell_type": "markdown",
   "metadata": {
    "deletable": false,
    "editable": false,
    "nbgrader": {
     "cell_type": "markdown",
     "checksum": "3dd4fdce9bb3791c57d942b2115c06ea",
     "grade": false,
     "grade_id": "cell-278eef05750c3de5",
     "locked": true,
     "schema_version": 3,
     "solution": false,
     "task": false
    }
   },
   "source": [
    "Una vez generado este RDD vamos a crear un tabla. El primer paso es generar por cada tupla un objeto Row que contenga un atributo ```name``` y un atributo ```tweets```. Ahora solo tenéis que aplicar el método ```toDF()``` para generar una tabla. Ordenad las filas de esta tabla por el número de tweets en orden descendente.\n",
    "\n",
    "**Esquema**\n",
    "```Python\n",
    "tweets_place = tweets_place_rdd.<FILL IN>\n",
    "\n",
    "tweets_place.limit(10).show()\n",
    "```"
   ]
  },
  {
   "cell_type": "code",
   "execution_count": 41,
   "metadata": {
    "deletable": false,
    "nbgrader": {
     "cell_type": "code",
     "checksum": "d8ee3c40ac484a28ddcbc75d281bed32",
     "grade": false,
     "grade_id": "cell-40de85c3cb590996",
     "locked": false,
     "schema_version": 3,
     "solution": true,
     "task": false
    }
   },
   "outputs": [
    {
     "name": "stdout",
     "output_type": "stream",
     "text": [
      "+-----------+------+\n",
      "|       name|tweets|\n",
      "+-----------+------+\n",
      "|     Madrid|  4911|\n",
      "|  Barcelona|  3481|\n",
      "|    Sevilla|   959|\n",
      "|   Valencia|   689|\n",
      "|   Zaragoza|   597|\n",
      "|Villamartín|   570|\n",
      "|     Málaga|   546|\n",
      "|     Murcia|   461|\n",
      "|      Palma|   416|\n",
      "|   Alicante|   407|\n",
      "+-----------+------+\n",
      "\n"
     ]
    }
   ],
   "source": [
    "tweets_place = tweets_place_rdd.toDF(['name','tweets'])\n",
    "tweets_place.limit(10).show()"
   ]
  },
  {
   "cell_type": "code",
   "execution_count": 42,
   "metadata": {
    "deletable": false,
    "editable": false,
    "nbgrader": {
     "cell_type": "code",
     "checksum": "2aa9a5b6aba02b034f484a39661dc8ab",
     "grade": true,
     "grade_id": "cell-4b202ec17fb72450",
     "locked": true,
     "points": 0.375,
     "schema_version": 3,
     "solution": false,
     "task": false
    }
   },
   "outputs": [],
   "source": [
    "output = tweets_place.first()\n",
    "assert output.name == \"Madrid\" and output.tweets == 4911, \"Incorrect output\""
   ]
  },
  {
   "cell_type": "markdown",
   "metadata": {
    "deletable": false,
    "editable": false,
    "nbgrader": {
     "cell_type": "markdown",
     "checksum": "e0c5a84283a55e39eaa3026c3bd6b3c3",
     "grade": false,
     "grade_id": "cell-beb23e0cb9a56f36",
     "locked": true,
     "schema_version": 3,
     "solution": false,
     "task": false
    }
   },
   "source": [
    "#### **Parte 2.2.2:** Contar hashtags\n",
    "\n",
    "En el ejercicio anterior hemos visto cómo podemos generar la misma información haciendo una agregación mediante SQL o utilizando RDDs. Como seguro que habéis observado la semántica de la sentencia SQL es mucho más limpia para realizar esta tarea. Pero no todas las tareas que os vais a encontrar se pueden hacer mediante sentencias SQL. En este ejercicio vamos a ver un ejemplo.\n",
    "\n",
    "El objetivo de este ejercicio es contar el número de veces que cada hashtag (literalmente: palabras precedidas o serparadas por un #) ha aparecido en el dataset. Para evitar la sobrerrepresentación debida a los retweets vamos a concentrarnos en solo aquellos tweets que no son retweets de ningún otro, o dicho de otra manera, en aquellos en los que el campo ```retweeted_status``` es nulo. Cread una variable ```non_retweets``` que contenga todos estos tweets.\n",
    "\n",
    "**Esquema**\n",
    "```Python\n",
    "non_retweets = <FILL IN>\n",
    "```"
   ]
  },
  {
   "cell_type": "code",
   "execution_count": 43,
   "metadata": {
    "deletable": false,
    "nbgrader": {
     "cell_type": "code",
     "checksum": "937f2396b7f82613a95738ef4bc24ccd",
     "grade": false,
     "grade_id": "cell-54dc6516920b99c6",
     "locked": false,
     "schema_version": 3,
     "solution": true,
     "task": false
    }
   },
   "outputs": [],
   "source": [
    "non_retweets =hiveContext.sql(\"select text from tweets28a_sample25 where retweeted_status is NULL\")"
   ]
  },
  {
   "cell_type": "code",
   "execution_count": 44,
   "metadata": {
    "deletable": false,
    "editable": false,
    "nbgrader": {
     "cell_type": "code",
     "checksum": "3f8d0bd6ccd35345cf43f51f635311e5",
     "grade": true,
     "grade_id": "cell-dc8bf26ac512836d",
     "locked": true,
     "points": 0.1,
     "schema_version": 3,
     "solution": false,
     "task": false
    }
   },
   "outputs": [],
   "source": [
    "assert non_retweets.count() == 1318664, \"Incorrect answer\""
   ]
  },
  {
   "cell_type": "markdown",
   "metadata": {
    "deletable": false,
    "editable": false,
    "nbgrader": {
     "cell_type": "markdown",
     "checksum": "1e2f57664789340179a891108b18de9d",
     "grade": false,
     "grade_id": "cell-7dc2107203021a1c",
     "locked": true,
     "schema_version": 3,
     "solution": false,
     "task": false
    }
   },
   "source": [
    "Seguidamente vamos ha crear una variable ```hashtags``` que contenga una lista de tuplas con la información ```(hashtag, count)```. Para ello, cread un RDD que contenga una lista con el texto de todos los tweets. Una vez hecho este paso tenéis que extraer los hashtags (palabras precedidas o separadas por un #) y contarlos.\n",
    "\n",
    "Recordad los conocimientos adquiridos en la PEC 1 y el anterior ejercicio, os serán de gran ayuda."
   ]
  },
  {
   "cell_type": "code",
   "execution_count": 45,
   "metadata": {
    "deletable": false,
    "nbgrader": {
     "cell_type": "code",
     "checksum": "502ec252554b51990b00d78981ae9739",
     "grade": true,
     "grade_id": "cell-472cc1af8d65ca8a",
     "locked": false,
     "points": 0.7,
     "schema_version": 3,
     "solution": true,
     "task": false
    }
   },
   "outputs": [
    {
     "data": {
      "text/plain": [
       "[Row(text='@Earco1977 Pues a mí me encantaría poder gobernar sin el PSOE.'),\n",
       " Row(text='@CastigadorY @jusapol #PPSOE #L6Ncampaña #L6Nrevilla @Irene_Montero_\\n#StopLeyAbusosPoliciales😱\\n#EquiparacionYa… https://t.co/kzPvsRq2bW'),\n",
       " Row(text='Hola @policia, hola @guardiacivil, estais mintiendo y mucho... @perseo_zz, no  gusta que la gente se entere de la v… https://t.co/umr9LpJQqO'),\n",
       " Row(text='@LaRepublicaCat @AlbanoDante76 Fachín:\\nPuigdemont és un antisistema...\\n\\n#YaTeVale https://t.co/Yio5vvf3Ev'),\n",
       " Row(text='@Podemos_CPRA @Irene_Montero_ @ahorapodemos @podemosalicante ¿SEGURO Q ERES D IZDAS?, UP ante el PSOE aceptó no sub… https://t.co/l2ACUJPfxA')]"
      ]
     },
     "execution_count": 45,
     "metadata": {},
     "output_type": "execute_result"
    }
   ],
   "source": [
    "hashtags_rdd=non_retweets.rdd\n",
    "hashtags_rdd.take(5)"
   ]
  },
  {
   "cell_type": "code",
   "execution_count": 46,
   "metadata": {},
   "outputs": [],
   "source": [
    "def obtain_hashtag(text):\n",
    "    hashtag= re.sub(r'([^\\#\\w+])+\\w*','', text)\n",
    "    hashtag=re.sub(r'^(\\w+)','', hashtag)\n",
    "    res = hashtag.strip('#')\n",
    "    return res\n",
    "        "
   ]
  },
  {
   "cell_type": "code",
   "execution_count": 47,
   "metadata": {},
   "outputs": [
    {
     "data": {
      "text/plain": [
       "['PPSOE#L6Ncampaña#L6Nrevilla#StopLeyAbusosPoliciales#EquiparacionYa',\n",
       " 'YaTeVale',\n",
       " 'L6Nrevilla',\n",
       " '28Abril#Presidente#HazQueNoPase',\n",
       " 'ProhibidoRendirse',\n",
       " 'SantaBrígida#28A',\n",
       " 'EquiparacionYa#StopLeyAbusosPoliciales',\n",
       " 'FAQScrispetesTV3',\n",
       " '+',\n",
       " 'PorEspaña#VoxExtremaNecesidad#NuestrasRaices',\n",
       " 'L6Neldebate',\n",
       " 'HazQuePase',\n",
       " 'EquiparacionYa#StopLeyAbusosPoliciales',\n",
       " 'ProhibidoRendirse',\n",
       " 'HazQuePase#LaHistoriaLaEscribesTú']"
      ]
     },
     "execution_count": 47,
     "metadata": {},
     "output_type": "execute_result"
    }
   ],
   "source": [
    "hashtags=hashtags_rdd.map(lambda x: obtain_hashtag(x[0])).filter(lambda x: len(x)>0)\n",
    "hashtags.take(15)"
   ]
  },
  {
   "cell_type": "code",
   "execution_count": 48,
   "metadata": {},
   "outputs": [
    {
     "data": {
      "text/plain": [
       "['PPSOE',\n",
       " 'L6Ncampaña',\n",
       " 'L6Nrevilla',\n",
       " 'StopLeyAbusosPoliciales',\n",
       " 'EquiparacionYa',\n",
       " 'YaTeVale',\n",
       " 'L6Nrevilla',\n",
       " '28Abril',\n",
       " 'Presidente',\n",
       " 'HazQueNoPase',\n",
       " 'ProhibidoRendirse',\n",
       " 'SantaBrígida',\n",
       " '28A',\n",
       " 'EquiparacionYa',\n",
       " 'StopLeyAbusosPoliciales']"
      ]
     },
     "execution_count": 48,
     "metadata": {},
     "output_type": "execute_result"
    }
   ],
   "source": [
    "hashtags_splitted=hashtags.flatMap(lambda x: x.split(\"#\"))\n",
    "hashtags_splitted.take(15)"
   ]
  },
  {
   "cell_type": "code",
   "execution_count": 49,
   "metadata": {},
   "outputs": [
    {
     "data": {
      "text/plain": [
       "[('28A', 39158),\n",
       " ('ElDebateDecisivo', 27200),\n",
       " ('ELDEBATEenRTVE', 23501),\n",
       " ('EleccionesGenerales28A', 8506),\n",
       " ('EquiparacionYa', 7771),\n",
       " ('EleccionesL6', 7427),\n",
       " ('HazQuePase', 6663),\n",
       " ('DebateAtresmedia', 5400),\n",
       " ('DebateRTVE', 4433),\n",
       " ('LaHistoriaLaEscribesTú', 4279)]"
      ]
     },
     "execution_count": 49,
     "metadata": {},
     "output_type": "execute_result"
    }
   ],
   "source": [
    "hashtags_count=hashtags_splitted.map(lambda x: (x, 1)).reduceByKey(lambda a, b: a+b).sortBy(lambda x: x[1], ascending=False)\n",
    "hashtags_count.take(10)"
   ]
  },
  {
   "cell_type": "code",
   "execution_count": 50,
   "metadata": {},
   "outputs": [],
   "source": [
    "def add_alm(array):\n",
    "    array=('#'+array[0], array[1])\n",
    "    return array"
   ]
  },
  {
   "cell_type": "code",
   "execution_count": 51,
   "metadata": {},
   "outputs": [
    {
     "data": {
      "text/plain": [
       "[('#28A', 39158),\n",
       " ('#ElDebateDecisivo', 27200),\n",
       " ('#ELDEBATEenRTVE', 23501),\n",
       " ('#EleccionesGenerales28A', 8506),\n",
       " ('#EquiparacionYa', 7771),\n",
       " ('#EleccionesL6', 7427),\n",
       " ('#HazQuePase', 6663),\n",
       " ('#DebateAtresmedia', 5400),\n",
       " ('#DebateRTVE', 4433),\n",
       " ('#LaHistoriaLaEscribesTú', 4279)]"
      ]
     },
     "execution_count": 51,
     "metadata": {},
     "output_type": "execute_result"
    }
   ],
   "source": [
    "hashtags_count=hashtags_count.map(lambda x: add_alm(x))\n",
    "hashtags_count.take(10)"
   ]
  },
  {
   "cell_type": "markdown",
   "metadata": {
    "deletable": false,
    "editable": false,
    "nbgrader": {
     "cell_type": "markdown",
     "checksum": "61ccf655c2293e7052c45319fc474060",
     "grade": false,
     "grade_id": "cell-2f143219bff9e857",
     "locked": true,
     "schema_version": 3,
     "solution": false,
     "task": false
    }
   },
   "source": [
    "Finalmente, se os pide que con el RDD obtenido generéis una tabla ```hashtagsTable``` compuesta de dos columnas:\n",
    "- ***hashtag***\n",
    "- ***num:*** número de veces que aparece cada hashtag.\n",
    "\n",
    "Ordenadla en orden descendente por número de tweets.\n",
    "\n",
    "**Esquema**\n",
    "```Python\n",
    "hashtagsTable = <FILL IN>\n",
    "\n",
    "hashtagsTable.limit(20).show()\n",
    "```"
   ]
  },
  {
   "cell_type": "code",
   "execution_count": 52,
   "metadata": {
    "deletable": false,
    "nbgrader": {
     "cell_type": "code",
     "checksum": "775f43eadc8b59f5198ee3219102db44",
     "grade": false,
     "grade_id": "cell-10435b59256fe1ad",
     "locked": false,
     "schema_version": 3,
     "solution": true,
     "task": false
    }
   },
   "outputs": [
    {
     "name": "stdout",
     "output_type": "stream",
     "text": [
      "+--------------------+-----+\n",
      "|             hashtag|  num|\n",
      "+--------------------+-----+\n",
      "|                #28A|39158|\n",
      "|   #ElDebateDecisivo|27200|\n",
      "|     #ELDEBATEenRTVE|23501|\n",
      "|#EleccionesGenera...| 8506|\n",
      "|     #EquiparacionYa| 7771|\n",
      "|       #EleccionesL6| 7427|\n",
      "|         #HazQuePase| 6663|\n",
      "|   #DebateAtresmedia| 5400|\n",
      "|         #DebateRTVE| 4433|\n",
      "|#LaHistoriaLaEscr...| 4279|\n",
      "|          #PorEspaña| 3971|\n",
      "|           #DebatTV3| 3741|\n",
      "|                #28a| 3608|\n",
      "|#EleccionesGenerales| 3504|\n",
      "|         #ILPJusapol| 3399|\n",
      "|            #28Abril| 3235|\n",
      "|           #VotaPSOE| 3092|\n",
      "|         #EspañaViva| 3078|\n",
      "|        #ValorSeguro| 2777|\n",
      "|             #España| 2676|\n",
      "+--------------------+-----+\n",
      "\n"
     ]
    }
   ],
   "source": [
    "hashtagsTable = hashtags_count.toDF(['hashtag', 'num'])\n",
    "hashtagsTable.limit(20).show()"
   ]
  },
  {
   "cell_type": "code",
   "execution_count": 53,
   "metadata": {
    "deletable": false,
    "editable": false,
    "nbgrader": {
     "cell_type": "code",
     "checksum": "2ccdc8aa4d07e652239603292bc929f7",
     "grade": true,
     "grade_id": "cell-0554917487d542e2",
     "locked": true,
     "points": 0.7,
     "schema_version": 3,
     "solution": false,
     "task": false
    }
   },
   "outputs": [],
   "source": [
    "output = hashtagsTable.first()\n",
    "assert output.hashtag == \"#28A\" and output.num >= 38000, \"Incorrect output\""
   ]
  },
  {
   "cell_type": "markdown",
   "metadata": {
    "deletable": false,
    "editable": false,
    "nbgrader": {
     "cell_type": "markdown",
     "checksum": "a64cab32173e02d86d746f13fe8a390e",
     "grade": false,
     "grade_id": "cell-eaac2bd3c05aaf8e",
     "locked": true,
     "schema_version": 3,
     "solution": false,
     "task": false
    },
    "toc-hr-collapsed": false
   },
   "source": [
    "## **Parte 3:** Sampling\n",
    "\n",
    "En muchas ocasiones, antes de lanzar costoso procesos, es una práctica habitual tratar con un pequeño conjunto de los datos para investigar algunas propiedades o simplemente para debugar nuestros algoritmos, a esta tarea se la llama sampling. En esta parte de la práctica vamos a ver los dos principales métodos de sampling y cómo utilizarlos."
   ]
  },
  {
   "cell_type": "markdown",
   "metadata": {
    "deletable": false,
    "editable": false,
    "nbgrader": {
     "cell_type": "markdown",
     "checksum": "c08731e0a5ed12a59cb633f26055d985",
     "grade": false,
     "grade_id": "cell-6cc5b79056c13a7d",
     "locked": true,
     "schema_version": 3,
     "solution": false,
     "task": false
    }
   },
   "source": [
    "### **Parte 3.1:** Homogeneo\n",
    "\n",
    "El primer sampling que vamos a ver es [el homogeneo](https://en.wikipedia.org/wiki/Simple_random_sample). Este sampling se basta en simplemente escoger una fracción de la población seleccionando aleatoriamente elementos de la misma.\n",
    "\n",
    "Primero de todo vamos ha realizar un sampling homogéneo del 1% de los tweets generados en periodo electoral sin reemplazo. Guardad en una variable ```tweets_sample``` este sampling utilizando el método ```sample``` descrito en la [API de pyspark SQL](https://spark.apache.org/docs/2.4.0/api/python/pyspark.sql.html). El seed que vais a utilizar para inicializar el generador aleatorio es 42.\n",
    "\n",
    "**Esquema**\n",
    "```Python\n",
    "seed = 42\n",
    "fraction = 0.01\n",
    "\n",
    "tweets_sample = tweets.<FILL IN>\n",
    "\n",
    "print(\"Number of tweets sampled: {0}\".format(tweets_sample.count()))\n",
    "```"
   ]
  },
  {
   "cell_type": "code",
   "execution_count": 54,
   "metadata": {
    "deletable": false,
    "nbgrader": {
     "cell_type": "code",
     "checksum": "7d01c1fc4066fd1e1002e3f3b459fd98",
     "grade": false,
     "grade_id": "cell-b64b6c8d35cf75ee",
     "locked": false,
     "schema_version": 3,
     "solution": true,
     "task": false
    }
   },
   "outputs": [
    {
     "name": "stdout",
     "output_type": "stream",
     "text": [
      "Number of tweets sampled: 63888\n"
     ]
    }
   ],
   "source": [
    "seed = 42\n",
    "fraction = 0.01\n",
    "\n",
    "tweets_sample = tweets.sample(fraction, seed)\n",
    "\n",
    "print(\"Number of tweets sampled: {0}\".format(tweets_sample.count()))"
   ]
  },
  {
   "cell_type": "code",
   "execution_count": 55,
   "metadata": {
    "deletable": false,
    "editable": false,
    "nbgrader": {
     "cell_type": "code",
     "checksum": "4a5820bdb545c72712f116f947e9ed21",
     "grade": true,
     "grade_id": "cell-a7cfa251ac394cc2",
     "locked": true,
     "points": 0.125,
     "schema_version": 3,
     "solution": false,
     "task": false
    }
   },
   "outputs": [],
   "source": [
    "assert tweets_sample.count() == 63888, \"Incorrect output\""
   ]
  },
  {
   "cell_type": "markdown",
   "metadata": {
    "deletable": false,
    "editable": false,
    "nbgrader": {
     "cell_type": "markdown",
     "checksum": "9edd3a5b39f03fbf93cc02cf61c8dbf1",
     "grade": false,
     "grade_id": "cell-9fbb3918484a07ce",
     "locked": true,
     "schema_version": 3,
     "solution": false,
     "task": false
    }
   },
   "source": [
    "Una de las cosas que resulta interesante comprobar acerca de los patrones de uso de las redes sociales es el patrón de uso diario. En este caso nos interesa el número promedio de tweets que se genera cada hora del día. Para extraer esta información lo que haremos primero, será generar una tabla ```tweets_timestamp``` con la información:\n",
    "- ***created_at***: timestamp de cuando se publicó el tweet.\n",
    "- ***hour***: a que hora del dia corresponde.\n",
    "- ***day***: Fecha en formato MM-dd-YY\n",
    "\n",
    "La función ```hour``` os servirá para extraer la hora del timestamp y la función ```date_format``` os permitirá generar la fecha. La tabla tiene que estar en orden ascendente según la columna `created_at`"
   ]
  },
  {
   "cell_type": "code",
   "execution_count": 56,
   "metadata": {
    "deletable": false,
    "nbgrader": {
     "cell_type": "code",
     "checksum": "262ec79af805fc2972704923a42e2f1b",
     "grade": false,
     "grade_id": "cell-5d8ae05f924c3591",
     "locked": false,
     "schema_version": 3,
     "solution": true,
     "task": false
    }
   },
   "outputs": [
    {
     "name": "stdout",
     "output_type": "stream",
     "text": [
      "+-------------------+----+--------+\n",
      "|         created_at|hour|     day|\n",
      "+-------------------+----+--------+\n",
      "|2019-04-12 03:06:25|   3|04-12-19|\n",
      "|2019-04-12 05:08:47|   5|04-12-19|\n",
      "|2019-04-12 09:15:02|   9|04-12-19|\n",
      "|2019-04-12 09:38:31|   9|04-12-19|\n",
      "|2019-04-12 10:46:02|  10|04-12-19|\n",
      "|2019-04-12 10:47:17|  10|04-12-19|\n",
      "|2019-04-12 10:49:17|  10|04-12-19|\n",
      "|2019-04-12 10:49:30|  10|04-12-19|\n",
      "|2019-04-12 10:54:29|  10|04-12-19|\n",
      "|2019-04-12 10:55:06|  10|04-12-19|\n",
      "|2019-04-12 10:55:08|  10|04-12-19|\n",
      "|2019-04-12 10:55:16|  10|04-12-19|\n",
      "|2019-04-12 10:55:28|  10|04-12-19|\n",
      "|2019-04-12 10:55:52|  10|04-12-19|\n",
      "|2019-04-12 10:58:11|  10|04-12-19|\n",
      "|2019-04-12 10:59:53|  10|04-12-19|\n",
      "|2019-04-12 11:00:27|  11|04-12-19|\n",
      "|2019-04-12 11:00:34|  11|04-12-19|\n",
      "|2019-04-12 11:00:54|  11|04-12-19|\n",
      "|2019-04-12 11:02:18|  11|04-12-19|\n",
      "+-------------------+----+--------+\n",
      "\n"
     ]
    }
   ],
   "source": [
    "from pyspark.sql.functions import date_format, hour, from_utc_timestamp\n",
    "\n",
    "tweets_timestamp=tweets_sample.select(tweets_sample.created_at, hour(tweets_sample.created_at).alias(\"hour\"), date_format(tweets_sample.created_at,'MM-dd-YY').alias(\"day\") )\n",
    "tweets_timestamp=tweets_timestamp.orderBy(\"created_at\")\n",
    "\n",
    "tweets_timestamp.limit(20).show()"
   ]
  },
  {
   "cell_type": "code",
   "execution_count": 57,
   "metadata": {
    "deletable": false,
    "editable": false,
    "nbgrader": {
     "cell_type": "code",
     "checksum": "8fadf877e8fda4e7f62e9346885f398a",
     "grade": true,
     "grade_id": "cell-846e0102e9e77c84",
     "locked": true,
     "points": 0.25,
     "schema_version": 3,
     "solution": false,
     "task": false
    }
   },
   "outputs": [],
   "source": [
    "output = tweets_timestamp.first()\n",
    "assert output.day == \"04-12-19\" and output.hour == 3, \"Incorrect output\""
   ]
  },
  {
   "cell_type": "markdown",
   "metadata": {
    "deletable": false,
    "editable": false,
    "nbgrader": {
     "cell_type": "markdown",
     "checksum": "2f690295bfa94fc5aa1817b69cce6e5a",
     "grade": false,
     "grade_id": "cell-4d55081b8f9d4261",
     "locked": true,
     "schema_version": 3,
     "solution": false,
     "task": false
    }
   },
   "source": [
    "El paso siguiente es agregar estos datos por hora y día en una tabla ```tweets_hour_day```. Tenéis que crear una tabla ```tweets_hour``` con la información:\n",
    "- ***hour:*** hora del dia\n",
    "- ***day:*** fecha\n",
    "- ***count:*** número de tweets generados\n",
    "\n",
    "Ordenad la tabla por orden descendente de tweets."
   ]
  },
  {
   "cell_type": "code",
   "execution_count": 58,
   "metadata": {},
   "outputs": [],
   "source": [
    "tweets_hour_day=tweets_sample.select(hour(tweets_sample.created_at).alias(\"hour\"), date_format(tweets_sample.created_at,'MM-dd-YY').alias(\"day\"), \"user.screen_name\")\n",
    "tweets_hour_day=tweets_hour_day.groupBy(\"hour\", \"day\").agg({\"screen_name\":\"count\"})"
   ]
  },
  {
   "cell_type": "code",
   "execution_count": 59,
   "metadata": {
    "deletable": false,
    "nbgrader": {
     "cell_type": "code",
     "checksum": "081131a2e734d16c1242bcd86efd4435",
     "grade": false,
     "grade_id": "cell-5ff5adc081f0ed8a",
     "locked": false,
     "schema_version": 3,
     "solution": true,
     "task": false
    }
   },
   "outputs": [
    {
     "name": "stdout",
     "output_type": "stream",
     "text": [
      "+----+--------+-----+\n",
      "|hour|     day|count|\n",
      "+----+--------+-----+\n",
      "|  23|04-23-19| 1222|\n",
      "|  23|04-22-19| 1116|\n",
      "|   0|04-24-19|  999|\n",
      "|  23|04-28-19|  929|\n",
      "|  22|04-23-19|  917|\n",
      "|  22|04-22-19|  913|\n",
      "|  22|04-28-19|  856|\n",
      "|   0|04-29-19|  838|\n",
      "|   0|04-23-19|  713|\n",
      "|  21|04-28-19|  494|\n",
      "|   1|04-24-19|  427|\n",
      "|  16|04-28-19|  417|\n",
      "|  15|04-28-19|  417|\n",
      "|  20|04-28-19|  412|\n",
      "|   1|04-29-19|  408|\n",
      "|  18|04-28-19|  393|\n",
      "|  17|04-28-19|  386|\n",
      "|  19|04-28-19|  366|\n",
      "|  21|04-23-19|  354|\n",
      "|  14|04-28-19|  346|\n",
      "+----+--------+-----+\n",
      "\n"
     ]
    }
   ],
   "source": [
    "tweets_hour_day=tweets_hour_day.withColumnRenamed(\"count(screen_name)\",\"count\")\n",
    "tweets_hour_day=tweets_hour_day.orderBy(\"count\", ascending=False)\n",
    "tweets_hour_day.limit(20).show()"
   ]
  },
  {
   "cell_type": "code",
   "execution_count": 60,
   "metadata": {
    "deletable": false,
    "editable": false,
    "nbgrader": {
     "cell_type": "code",
     "checksum": "a76037e90835d321ac1f28598e3135f5",
     "grade": true,
     "grade_id": "cell-4136767d4dba6837",
     "locked": true,
     "points": 0.125,
     "schema_version": 3,
     "solution": false,
     "task": false
    }
   },
   "outputs": [],
   "source": [
    "output = tweets_hour_day.first()\n",
    "assert output.hour == 23 and output['count'] == 1222, \"Incorrect output\""
   ]
  },
  {
   "cell_type": "markdown",
   "metadata": {
    "deletable": false,
    "editable": false,
    "nbgrader": {
     "cell_type": "markdown",
     "checksum": "1d270162b9741e77ba6951125d9edf29",
     "grade": false,
     "grade_id": "cell-9711c5a4b8435d13",
     "locked": true,
     "schema_version": 3,
     "solution": false,
     "task": false
    }
   },
   "source": [
    "Por último solo nos queda hacer una agregación por hora para conseguir el promedio de tweets por hora. Tenéis que generar una tabla ```tweets_hour``` con la información:\n",
    "- ***hour:*** Hora\n",
    "- ***tweets:*** Promedio de tweets realizados\n",
    "\n",
    "Recordad que estamos trabajando con un sample del 1% por tanto tenéis que corregir la columna ```tweets``` para que refleje el promedio que deberíamos esperar en el conjunto completo de tweets. La tabla tiene que estar ordenada en orden ascendente de hora."
   ]
  },
  {
   "cell_type": "code",
   "execution_count": 61,
   "metadata": {},
   "outputs": [
    {
     "name": "stdout",
     "output_type": "stream",
     "text": [
      "+----+------------------+\n",
      "|hour|        avg(count)|\n",
      "+----+------------------+\n",
      "|   0| 261.8888888888889|\n",
      "|   1|131.61111111111111|\n",
      "|   2| 62.27777777777778|\n",
      "|   3|30.166666666666668|\n",
      "|   4|22.352941176470587|\n",
      "|   5|18.666666666666668|\n",
      "|   6|  32.1764705882353|\n",
      "|   7| 67.29411764705883|\n",
      "|   8|109.52941176470588|\n",
      "|   9|134.55555555555554|\n",
      "|  10|144.05555555555554|\n",
      "|  11|151.33333333333334|\n",
      "|  12|160.11111111111111|\n",
      "|  13|164.22222222222223|\n",
      "|  14|168.77777777777777|\n",
      "|  15|180.16666666666666|\n",
      "|  16|174.94444444444446|\n",
      "|  17|164.61111111111111|\n",
      "|  18|166.22222222222223|\n",
      "|  19|174.33333333333334|\n",
      "+----+------------------+\n",
      "only showing top 20 rows\n",
      "\n"
     ]
    }
   ],
   "source": [
    "tweets_hour_aux=tweets_hour_day.select(\"hour\", \"count\")\n",
    "tweets_hour_aux=tweets_hour_aux.groupBy(\"hour\").agg({\"count\": \"avg\"}).orderBy(\"hour\", ascending=True)\n",
    "tweets_hour_aux.limit(24).show()"
   ]
  },
  {
   "cell_type": "code",
   "execution_count": 62,
   "metadata": {
    "deletable": false,
    "nbgrader": {
     "cell_type": "code",
     "checksum": "91db13dfb8cd1a97238b76c8715b6e60",
     "grade": false,
     "grade_id": "cell-e54cd30ac632f4bb",
     "locked": false,
     "schema_version": 3,
     "solution": true,
     "task": false
    }
   },
   "outputs": [
    {
     "name": "stdout",
     "output_type": "stream",
     "text": [
      "+----+------------------+\n",
      "|hour|            tweets|\n",
      "+----+------------------+\n",
      "|   0| 26188.88888888889|\n",
      "|   1|13161.111111111111|\n",
      "|   2| 6227.777777777778|\n",
      "|   3| 3016.666666666667|\n",
      "|   4|2235.2941176470586|\n",
      "|   5|1866.6666666666667|\n",
      "|   6|3217.6470588235297|\n",
      "|   7| 6729.411764705883|\n",
      "|   8| 10952.94117647059|\n",
      "|   9|13455.555555555555|\n",
      "|  10|14405.555555555555|\n",
      "|  11|15133.333333333334|\n",
      "|  12|16011.111111111111|\n",
      "|  13|16422.222222222223|\n",
      "|  14|16877.777777777777|\n",
      "|  15|18016.666666666664|\n",
      "|  16|17494.444444444445|\n",
      "|  17|16461.111111111113|\n",
      "|  18|16622.222222222223|\n",
      "|  19|17433.333333333336|\n",
      "+----+------------------+\n",
      "only showing top 20 rows\n",
      "\n"
     ]
    }
   ],
   "source": [
    "tweets_hour_aux=tweets_hour_aux.withColumnRenamed(\"avg(count)\",\"tweets\")\n",
    "tweets_hour = tweets_hour_aux.withColumn(\"tweets\", tweets_hour_aux.tweets*100)\n",
    "tweets_hour.limit(24).show()"
   ]
  },
  {
   "cell_type": "code",
   "execution_count": 63,
   "metadata": {
    "deletable": false,
    "editable": false,
    "nbgrader": {
     "cell_type": "code",
     "checksum": "9f28c89f8582fc88b850c92540940149",
     "grade": true,
     "grade_id": "cell-d7cdae10a0b3a437",
     "locked": true,
     "points": 0.25,
     "schema_version": 3,
     "solution": false,
     "task": false
    }
   },
   "outputs": [],
   "source": [
    "assert tweets_hour.first().hour == 0 and round(tweets_hour.first().tweets) == 26189"
   ]
  },
  {
   "cell_type": "markdown",
   "metadata": {
    "deletable": false,
    "editable": false,
    "nbgrader": {
     "cell_type": "markdown",
     "checksum": "a37fd5c5adb26be02017c5a17bb239b0",
     "grade": false,
     "grade_id": "cell-57be2455836c59b9",
     "locked": true,
     "schema_version": 3,
     "solution": false,
     "task": false
    }
   },
   "source": [
    "Por último, tenéis que producir un gráfico de barras utilizando [Pandas](https://pandas.pydata.org/) donde se muestre la información que acabáis de generar. Primero transformad la tabla `tweets_hour` a pandas utilizando el método `toPandas()`. Plotead la tabla resultante utilizando [la funcionalidad gráfica de pandas.](https://pandas.pydata.org/docs/reference/api/pandas.DataFrame.plot.bar.html)"
   ]
  },
  {
   "cell_type": "code",
   "execution_count": 64,
   "metadata": {
    "deletable": false,
    "nbgrader": {
     "cell_type": "code",
     "checksum": "5657c1d4713fb923f21e768656c28eaa",
     "grade": true,
     "grade_id": "cell-8b426c5ba583bcc9",
     "locked": false,
     "points": 0.25,
     "schema_version": 3,
     "solution": true,
     "task": false
    }
   },
   "outputs": [
    {
     "data": {
      "text/html": [
       "<div>\n",
       "<style scoped>\n",
       "    .dataframe tbody tr th:only-of-type {\n",
       "        vertical-align: middle;\n",
       "    }\n",
       "\n",
       "    .dataframe tbody tr th {\n",
       "        vertical-align: top;\n",
       "    }\n",
       "\n",
       "    .dataframe thead th {\n",
       "        text-align: right;\n",
       "    }\n",
       "</style>\n",
       "<table border=\"1\" class=\"dataframe\">\n",
       "  <thead>\n",
       "    <tr style=\"text-align: right;\">\n",
       "      <th></th>\n",
       "      <th>hour</th>\n",
       "      <th>tweets</th>\n",
       "    </tr>\n",
       "  </thead>\n",
       "  <tbody>\n",
       "    <tr>\n",
       "      <th>0</th>\n",
       "      <td>0</td>\n",
       "      <td>26188.888889</td>\n",
       "    </tr>\n",
       "    <tr>\n",
       "      <th>1</th>\n",
       "      <td>1</td>\n",
       "      <td>13161.111111</td>\n",
       "    </tr>\n",
       "    <tr>\n",
       "      <th>2</th>\n",
       "      <td>2</td>\n",
       "      <td>6227.777778</td>\n",
       "    </tr>\n",
       "    <tr>\n",
       "      <th>3</th>\n",
       "      <td>3</td>\n",
       "      <td>3016.666667</td>\n",
       "    </tr>\n",
       "    <tr>\n",
       "      <th>4</th>\n",
       "      <td>4</td>\n",
       "      <td>2235.294118</td>\n",
       "    </tr>\n",
       "  </tbody>\n",
       "</table>\n",
       "</div>"
      ],
      "text/plain": [
       "   hour        tweets\n",
       "0     0  26188.888889\n",
       "1     1  13161.111111\n",
       "2     2   6227.777778\n",
       "3     3   3016.666667\n",
       "4     4   2235.294118"
      ]
     },
     "execution_count": 64,
     "metadata": {},
     "output_type": "execute_result"
    }
   ],
   "source": [
    "tweets_hour_df=tweets_hour.toPandas()\n",
    "tweets_hour_df.head()"
   ]
  },
  {
   "cell_type": "code",
   "execution_count": 65,
   "metadata": {},
   "outputs": [
    {
     "data": {
      "text/plain": [
       "<matplotlib.axes._subplots.AxesSubplot at 0x7f84b96e3198>"
      ]
     },
     "execution_count": 65,
     "metadata": {},
     "output_type": "execute_result"
    },
    {
     "data": {
      "image/png": "[encoded data removed]",
      "text/plain": [
       "<Figure size 432x288 with 1 Axes>"
      ]
     },
     "metadata": {
      "needs_background": "light"
     },
     "output_type": "display_data"
    }
   ],
   "source": [
    "tweets_hour_df.plot.bar()"
   ]
  },
  {
   "cell_type": "markdown",
   "metadata": {
    "deletable": false,
    "editable": false,
    "nbgrader": {
     "cell_type": "markdown",
     "checksum": "9e0605763ee4de4472d85e1aae3fb341",
     "grade": false,
     "grade_id": "cell-811275200af43ba5",
     "locked": true,
     "schema_version": 3,
     "solution": false,
     "task": false
    }
   },
   "source": [
    "### **Parte 3.2:** Estratificado"
   ]
  },
  {
   "cell_type": "markdown",
   "metadata": {
    "deletable": false,
    "editable": false,
    "nbgrader": {
     "cell_type": "markdown",
     "checksum": "73af3778cfc38cc27d8dd5775f6cabe3",
     "grade": false,
     "grade_id": "cell-fbe68f197f991274",
     "locked": true,
     "schema_version": 3,
     "solution": false,
     "task": false
    }
   },
   "source": [
    "En muchas ocasiones el sampling homogéneo no es adecuado ya que por la propia estructura de los datos determinados segmentos pueden estar sobrerrepresentadas. Este es el caso que observamos en los tweets donde las grandes áreas urbanas están sobrerepresentadas si lo comparamos con el volumen de población. En esta actividad vamos a ver cómo aplicar esta técnica al dataset de tweets, para obtener un sampling que respete la proporción de diputados por provincia.\n",
    "\n",
    "En España, el proceso electoral asigna un volumen de diputados a cada provincia que depende de la población y de un porcentaje mínimo asignado por ley. En el contexto Hive que hemos creado previamente (```hiveContext```) podemos encontrar una tabla (```province_28a```) que contiene información sobre las circunscripciones electorales. Cargad ésta tabla en una variable con nombre ```province```."
   ]
  },
  {
   "cell_type": "code",
   "execution_count": 66,
   "metadata": {
    "deletable": false,
    "nbgrader": {
     "cell_type": "code",
     "checksum": "41494f3eecb070841512f49107b0a96a",
     "grade": false,
     "grade_id": "cell-78c789c01092cbc0",
     "locked": false,
     "schema_version": 3,
     "solution": true,
     "task": false
    }
   },
   "outputs": [
    {
     "name": "stdout",
     "output_type": "stream",
     "text": [
      "+-----------+-----------+------------------+----------+---------+\n",
      "|    capital|   province|              ccaa|population|diputados|\n",
      "+-----------+-----------+------------------+----------+---------+\n",
      "|     Teruel|     Teruel|            Aragón|     35691|        3|\n",
      "|      Soria|      Soria|   Castilla y León|     39112|        2|\n",
      "|    Segovia|    Segovia|   Castilla y León|     51683|        3|\n",
      "|     Huesca|     Huesca|            Aragón|     52463|        3|\n",
      "|     Cuenca|     Cuenca|Castilla-La Mancha|     54898|        3|\n",
      "|      Ávila|      Ávila|   Castilla y León|     57697|        3|\n",
      "|     Zamora|     Zamora|   Castilla y León|     61827|        3|\n",
      "|Ciudad Real|Ciudad Real|Castilla-La Mancha|     74743|        5|\n",
      "|   Palencia|   Palencia|   Castilla y León|     78629|        3|\n",
      "| Pontevedra| Pontevedra|           Galicia|     82802|        7|\n",
      "|     Toledo|     Toledo|Castilla-La Mancha|     84282|        6|\n",
      "|Guadalajara|Guadalajara|Castilla-La Mancha|     84910|        3|\n",
      "|      Ceuta|      Ceuta|             Ceuta|     85144|        1|\n",
      "|    Melilla|    Melilla|           Melilla|     86384|        1|\n",
      "|    Cáceres|    Cáceres|       Extremadura|     96098|        4|\n",
      "|       Lugo|       Lugo|           Galicia|     98025|        4|\n",
      "|     Girona|     Girona|          Cataluña|    100266|        6|\n",
      "|     Orense|     Orense|           Galicia|    105505|        4|\n",
      "|       Jaén|       Jaén|         Andalucía|    113457|        5|\n",
      "|      Cádiz|      Cádiz|         Andalucía|    116979|        9|\n",
      "+-----------+-----------+------------------+----------+---------+\n",
      "\n"
     ]
    }
   ],
   "source": [
    "province=hiveContext.table(\"province_28a\")\n",
    "\n",
    "province.limit(20).show()"
   ]
  },
  {
   "cell_type": "code",
   "execution_count": 67,
   "metadata": {
    "deletable": false,
    "editable": false,
    "nbgrader": {
     "cell_type": "code",
     "checksum": "7dce4debf8a3bff33b4fba4c8fc160bd",
     "grade": true,
     "grade_id": "cell-df66365e7782a5a2",
     "locked": true,
     "points": 0.0625,
     "schema_version": 3,
     "solution": false,
     "task": false
    }
   },
   "outputs": [],
   "source": [
    "assert province.count() == 52, \"Incorrect answer\""
   ]
  },
  {
   "cell_type": "markdown",
   "metadata": {
    "deletable": false,
    "editable": false,
    "nbgrader": {
     "cell_type": "markdown",
     "checksum": "b6e3aa6ae63d2c2652f2f2267af8378c",
     "grade": false,
     "grade_id": "cell-559a5cf0365b93cf",
     "locked": true,
     "schema_version": 3,
     "solution": false,
     "task": false
    }
   },
   "source": [
    "Para hacer un sampling estratificado lo primero que tenemos que hacer es determinar la fracción que queremos asignar a cada categoría. En este caso queremos una fracción que haga que el ratio tweets diputado sea igual para todas las capitales de provincia. Tenemos que tener en cuenta que la precisión de la geolocalización en Twitter és normalmente a nivel de ciudad. Por eso, para evitar incrementar la complejidad del ejercicio, vamos a utilizar los tweets en capitales de provincia como proxy de los tweets en toda la provincia.\n",
    "\n",
    "Lo primero que tenéis que hacer es crear un tabla ```info_tweets_province``` que debe contener:\n",
    "- ***capital:*** nombre de la capital de provincia.\n",
    "- ***tweets:*** número de tweets geolocalizados en cada capital\n",
    "- ***diputados:*** diputados que asignados a la provincia.\n",
    "- ***ratio_tweets_diputado:*** número de tweets por diputado.\n",
    "\n",
    "Debéis ordenar la lista por ```ratio_tweets_diputado``` en orden ascendente.\n",
    "\n",
    "***Nota:*** Podéis realizar este ejercicio de muchas maneras, probablemente la más fácil es utilizar la tabla ```tweets_place``` que habéis generado en el apartado 2.2.1. Recordad cómo utilizar el ```join()```"
   ]
  },
  {
   "cell_type": "code",
   "execution_count": 68,
   "metadata": {
    "deletable": false,
    "nbgrader": {
     "cell_type": "code",
     "checksum": "1b477bf4113286c6afc2749a5b5ba0e7",
     "grade": false,
     "grade_id": "cell-686a378ab0c82538",
     "locked": false,
     "schema_version": 3,
     "solution": true,
     "task": false
    }
   },
   "outputs": [
    {
     "name": "stdout",
     "output_type": "stream",
     "text": [
      "+--------------------+------+---------+---------------------+\n",
      "|             capital|tweets|diputados|ratio_tweets_diputado|\n",
      "+--------------------+------+---------+---------------------+\n",
      "|              Teruel|     8|        3|   2.6666666666666665|\n",
      "|          Pontevedra|    29|        7|    4.142857142857143|\n",
      "|              Zamora|    23|        3|    7.666666666666667|\n",
      "|              Huesca|    26|        3|    8.666666666666666|\n",
      "|             Segovia|    28|        3|    9.333333333333334|\n",
      "|               Cádiz|   108|        9|                 12.0|\n",
      "|               Soria|    25|        2|                 12.5|\n",
      "|              Cuenca|    39|        3|                 13.0|\n",
      "|         Ciudad Real|    67|        5|                 13.4|\n",
      "|                Lugo|    56|        4|                 14.0|\n",
      "|            Pamplona|    77|        5|                 15.4|\n",
      "|                Jaén|    86|        5|                 17.2|\n",
      "|         Guadalajara|    56|        3|   18.666666666666668|\n",
      "|             Cáceres|    75|        4|                18.75|\n",
      "|Santa Cruz de Ten...|   140|        7|                 20.0|\n",
      "|              Toledo|   124|        6|   20.666666666666668|\n",
      "|            Albacete|    83|        4|                20.75|\n",
      "|       San Sebastián|   127|        6|   21.166666666666668|\n",
      "|            Palencia|    67|        3|   22.333333333333332|\n",
      "|           Tarragona|   135|        6|                 22.5|\n",
      "+--------------------+------+---------+---------------------+\n",
      "\n"
     ]
    }
   ],
   "source": [
    "info_tweets_province=hiveContext.sql(\"\"\"\n",
    "SELECT capital, tweets, diputados, tweets/diputados as ratio_tweets_diputado \n",
    "from province_28a INNER JOIN tweets_place ON province_28a.capital=tweets_place.name ORDER BY 4 ASC\n",
    "\"\"\")\n",
    "\n",
    "info_tweets_province.limit(20).show()"
   ]
  },
  {
   "cell_type": "code",
   "execution_count": 69,
   "metadata": {},
   "outputs": [],
   "source": [
    "sqlContext.sql(\"DROP TABLE IF EXISTS info_tweets_province\")\n",
    "sqlContext.registerDataFrameAsTable(info_tweets_province, \"info_tweets_province\")"
   ]
  },
  {
   "cell_type": "code",
   "execution_count": 70,
   "metadata": {
    "deletable": false,
    "editable": false,
    "nbgrader": {
     "cell_type": "code",
     "checksum": "d4dab434319671c833c372adee1f00eb",
     "grade": true,
     "grade_id": "cell-0786655528352342",
     "locked": true,
     "points": 0.25,
     "schema_version": 3,
     "solution": false,
     "task": false
    }
   },
   "outputs": [],
   "source": [
    "output = info_tweets_province.first()\n",
    "maximum_ratio = floor(output.ratio_tweets_diputado * 100) / 100\n",
    "assert output.capital == \"Teruel\" and output.tweets == 8 and output.diputados == 3, \"Incorrect output\""
   ]
  },
  {
   "cell_type": "markdown",
   "metadata": {
    "deletable": false,
    "editable": false,
    "nbgrader": {
     "cell_type": "markdown",
     "checksum": "01b2322ead6f74802cb774ed08221f30",
     "grade": false,
     "grade_id": "cell-c174ca1e2c152b10",
     "locked": true,
     "schema_version": 3,
     "solution": false,
     "task": false
    }
   },
   "source": [
    "Lo primero que vamos a necesitar es un diccionario con nombre ```ratios``` donde cada capital de provincia es una llave y su valor asociado es la fracción de tweets que vamos a samplear. En este caso lo que queremos es que el ratio de tweets por cada diputado sea similar para cada capital de provincia.\n",
    "\n",
    "Como queremos que el sampling sea lo más grande posible y no queremos que ninguna capital este infrarepresentada el ratio de tweets por diputado será el valor más pequeño podéis observar en la tabla ```info_tweets_province```, que corresponde a 11.66 tweets por diputado en Teruel. Tenéis este valor guardado en la variable ```maximum_ratio```.\n",
    "\n",
    "*Nota:* El método ```collectAsMap()``` transforma un PairRDD en un diccionario."
   ]
  },
  {
   "cell_type": "code",
   "execution_count": 71,
   "metadata": {
    "deletable": false,
    "nbgrader": {
     "cell_type": "code",
     "checksum": "65bda9dc2291316da04c6459c06c416b",
     "grade": false,
     "grade_id": "cell-65ab3f04afcee421",
     "locked": false,
     "schema_version": 3,
     "solution": true,
     "task": false
    }
   },
   "outputs": [],
   "source": [
    "ratios = info_tweets_province.select(info_tweets_province.capital,info_tweets_province.diputados*maximum_ratio/info_tweets_province.tweets).rdd.collectAsMap()"
   ]
  },
  {
   "cell_type": "code",
   "execution_count": 72,
   "metadata": {
    "deletable": false,
    "editable": false,
    "nbgrader": {
     "cell_type": "code",
     "checksum": "f792b2b8057d22a43d326a2c3084ac74",
     "grade": true,
     "grade_id": "cell-aabf4f25dda3fd80",
     "locked": true,
     "points": 0.125,
     "schema_version": 3,
     "solution": false,
     "task": false
    }
   },
   "outputs": [],
   "source": [
    "assert ratios['Albacete'] == 0.12819277108433735, \"Incorrect output\""
   ]
  },
  {
   "cell_type": "markdown",
   "metadata": {
    "deletable": false,
    "editable": false,
    "nbgrader": {
     "cell_type": "markdown",
     "checksum": "3cfe3be8b979e70b73c43429b2f91d92",
     "grade": false,
     "grade_id": "cell-d2d9aafd35905891",
     "locked": true,
     "schema_version": 3,
     "solution": false,
     "task": false
    }
   },
   "source": [
    "Generad una tabla ```geo_tweets``` con todos los tweets geolocalizados."
   ]
  },
  {
   "cell_type": "code",
   "execution_count": 73,
   "metadata": {
    "deletable": false,
    "nbgrader": {
     "cell_type": "code",
     "checksum": "5749f705be432359aef81c9f1964229a",
     "grade": true,
     "grade_id": "cell-ba31ae52e39701e5",
     "locked": false,
     "points": 0.0625,
     "schema_version": 3,
     "solution": true,
     "task": false
    }
   },
   "outputs": [],
   "source": [
    "geo_tweets=hiveContext.sql(\"select place.name as place,text as tweets from tweets28a_sample25 WHERE place is not NULL \")"
   ]
  },
  {
   "cell_type": "markdown",
   "metadata": {
    "deletable": false,
    "editable": false,
    "nbgrader": {
     "cell_type": "markdown",
     "checksum": "ac7087eb7a7bb265316d5e31e0192771",
     "grade": false,
     "grade_id": "cell-b279373d74116807",
     "locked": true,
     "schema_version": 3,
     "solution": false,
     "task": false
    }
   },
   "source": [
    "Ahora ya estamos en disposición de hacer el sampling estratificado por población. Para ello podéis utilizar el método ```sampleBy()```. Utilizad 42 como seed del generador pseudoaleatorio.\n",
    "\n",
    "**Esquema**\n",
    "```Python\n",
    "seed = 42\n",
    "sample = <FILL IN>\n",
    "```"
   ]
  },
  {
   "cell_type": "code",
   "execution_count": 74,
   "metadata": {
    "deletable": false,
    "nbgrader": {
     "cell_type": "code",
     "checksum": "03689b51b5402081bceb365466af129a",
     "grade": true,
     "grade_id": "cell-a59cf6ff77d3933c",
     "locked": false,
     "points": 0.0625,
     "schema_version": 3,
     "solution": true,
     "task": false
    }
   },
   "outputs": [],
   "source": [
    "seed = 42\n",
    "sample = geo_tweets.sampleBy(\"place\", ratios, seed)"
   ]
  },
  {
   "cell_type": "markdown",
   "metadata": {
    "deletable": false,
    "editable": false,
    "nbgrader": {
     "cell_type": "markdown",
     "checksum": "e5971ecd82bbfe65999351ae949cf08a",
     "grade": false,
     "grade_id": "cell-efeaef422602bb30",
     "locked": true,
     "schema_version": 3,
     "solution": false,
     "task": false
    }
   },
   "source": [
    "Para visualizar el resultado del sampling vais a crear una tabla ```info_sample``` que contenga la siguiente información:\n",
    "- ***capital:*** nombre de la capital de provincia.\n",
    "- ***tweets:*** número de tweets sampleados en cada capital\n",
    "- ***diputados:*** diputados que asignados a la provincia.\n",
    "- ***ratio_tweets_diputado:*** número de tweets por diputado.\n",
    "\n",
    "Ordenad la tabla resultante por orden de ```ratio_tweets_diputado``` ascendente."
   ]
  },
  {
   "cell_type": "code",
   "execution_count": 76,
   "metadata": {},
   "outputs": [],
   "source": [
    "sqlContext.sql(\"DROP TABLE IF EXISTS sample\")\n",
    "sqlContext.registerDataFrameAsTable(sample, \"sample\")"
   ]
  },
  {
   "cell_type": "code",
   "execution_count": 77,
   "metadata": {
    "deletable": false,
    "nbgrader": {
     "cell_type": "code",
     "checksum": "4d6865ec8f111b85138591cf72e5c3d3",
     "grade": false,
     "grade_id": "cell-b30012b203c207eb",
     "locked": false,
     "schema_version": 3,
     "solution": true,
     "task": false
    },
    "scrolled": false
   },
   "outputs": [
    {
     "name": "stdout",
     "output_type": "stream",
     "text": [
      "+--------------------+------+---------+---------------------+\n",
      "|             capital|tweets|diputados|ratio_tweets_diputado|\n",
      "+--------------------+------+---------+---------------------+\n",
      "|             Melilla|     1|        1|                  1.0|\n",
      "|               Ceuta|     3|        1|                  3.0|\n",
      "|                Lugo|     4|        4|                  1.0|\n",
      "|               Soria|     4|        2|                  2.0|\n",
      "|             Segovia|     5|        3|   1.6666666666666667|\n",
      "|              Zamora|     5|        3|   1.6666666666666667|\n",
      "|              Cuenca|     6|        3|                  2.0|\n",
      "|     Vitoria-Gasteiz|     7|        4|                 1.75|\n",
      "|               Ávila|     7|        3|   2.3333333333333335|\n",
      "|            Palencia|     7|        3|   2.3333333333333335|\n",
      "|                León|     7|        4|                 1.75|\n",
      "|              Huesca|     7|        3|   2.3333333333333335|\n",
      "|         Guadalajara|     8|        3|   2.6666666666666665|\n",
      "|              Teruel|     8|        3|   2.6666666666666665|\n",
      "|             Cáceres|     9|        4|                 2.25|\n",
      "|              Burgos|     9|        4|                 2.25|\n",
      "|           Santander|     9|        5|                  1.8|\n",
      "|                Jaén|     9|        5|                  1.8|\n",
      "|             Logroño|    10|        4|                  2.5|\n",
      "|Castellón de la P...|    11|        5|                  2.2|\n",
      "+--------------------+------+---------+---------------------+\n",
      "\n"
     ]
    }
   ],
   "source": [
    "info_sample=sqlContext.sql(\"\"\"select capital, count(sample.tweets) as tweets, diputados, count(sample.tweets)/diputados as ratio_tweets_diputado\n",
    "from info_tweets_province inner join sample on sample.place=info_tweets_province.capital\n",
    "group by capital,diputados order by 2 asc\n",
    "\"\"\")\n",
    "info_sample.limit(20).show()\n"
   ]
  },
  {
   "cell_type": "code",
   "execution_count": 78,
   "metadata": {
    "deletable": false,
    "editable": false,
    "nbgrader": {
     "cell_type": "code",
     "checksum": "592e349358f72953e164e23d7b2d586e",
     "grade": true,
     "grade_id": "cell-77898278f3ee3b69",
     "locked": true,
     "points": 0.25,
     "schema_version": 3,
     "solution": false,
     "task": false
    }
   },
   "outputs": [],
   "source": [
    "output = info_sample.first()\n",
    "assert output.capital == \"Melilla\" and output.tweets == 1  and output.diputados == 1 and output.ratio_tweets_diputado == 1.0, \"Incorrect output\""
   ]
  },
  {
   "cell_type": "markdown",
   "metadata": {
    "deletable": false,
    "editable": false,
    "nbgrader": {
     "cell_type": "markdown",
     "checksum": "1eb62a0c3c5842561e9d702c743f1db6",
     "grade": false,
     "grade_id": "cell-bf8ae16a0f12d52d",
     "locked": true,
     "schema_version": 3,
     "solution": false,
     "task": false
    }
   },
   "source": [
    "Como veis el sampling no es exacto, es una aproximación. Pero como podéis imaginar acercar el sampling a la representatividad electoral de las regiones son necesarios en muchos análisis.\n",
    "\n",
    "Para comprobarlo contad primero todos los hashtags presentes en la tabla ```geo_tweets``` tal como hemos hecho en el apartado 2.2.2 y ordenad el resultado por número de tweets en orden descendente. Guardad la tabla en la variable `hashtagsTable`."
   ]
  },
  {
   "cell_type": "code",
   "execution_count": 79,
   "metadata": {},
   "outputs": [
    {
     "data": {
      "text/plain": [
       "['L6Neldebate',\n",
       " 'L6Neldebate',\n",
       " 'L6Neldebate',\n",
       " 'L6Nencampaña#unidaspodemos#podemos#UnidasPodemosSeseña#seseña',\n",
       " '28A#EleccionesGenerales#LimonesAlCongreso#LimonesAlSenado#EscañosDeLimón',\n",
       " 'l6neldebate',\n",
       " 'FelipeVI#Zarzuela',\n",
       " 'L6Neldebate',\n",
       " 'L6Nencampaña#28A#España#ReEvolución#PACMA',\n",
       " 'l6neldebate']"
      ]
     },
     "execution_count": 79,
     "metadata": {},
     "output_type": "execute_result"
    }
   ],
   "source": [
    "hashtags_rdd=geo_tweets.select(\"tweets\").rdd\n",
    "hashtags=hashtags_rdd.map(lambda x: obtain_hashtag(x[0])).filter(lambda x: len(x)>0)\n",
    "hashtags.take(10)"
   ]
  },
  {
   "cell_type": "code",
   "execution_count": 80,
   "metadata": {
    "deletable": false,
    "nbgrader": {
     "cell_type": "code",
     "checksum": "c3046076e9308d54f166b79aabd5e103",
     "grade": false,
     "grade_id": "cell-e1a2c1d512ab249e",
     "locked": false,
     "schema_version": 3,
     "solution": true,
     "task": false
    }
   },
   "outputs": [
    {
     "data": {
      "text/plain": [
       "[('28A', 1803),\n",
       " ('ElDebateDecisivo', 968),\n",
       " ('ELDEBATEenRTVE', 865),\n",
       " ('EquiparacionYa', 547),\n",
       " ('6AbrilMadrid', 450),\n",
       " ('ILPJusapoL', 429),\n",
       " ('HazQuePase', 411),\n",
       " ('EleccionesGenerales28A', 359),\n",
       " ('ValorSeguro', 230),\n",
       " ('EleccionesL6', 228)]"
      ]
     },
     "execution_count": 80,
     "metadata": {},
     "output_type": "execute_result"
    }
   ],
   "source": [
    "hashtags_splitted=hashtags.flatMap(lambda x: x.split(\"#\"))\n",
    "hashtags_count=hashtags_splitted.map(lambda x: (x, 1)).reduceByKey(lambda a, b: a+b).sortBy(lambda x: x[1], ascending=False)\n",
    "hashtags_count.take(10)"
   ]
  },
  {
   "cell_type": "code",
   "execution_count": 81,
   "metadata": {},
   "outputs": [
    {
     "name": "stdout",
     "output_type": "stream",
     "text": [
      "+--------------------+----+\n",
      "|             hashtag| num|\n",
      "+--------------------+----+\n",
      "|                #28A|1803|\n",
      "|   #ElDebateDecisivo| 968|\n",
      "|     #ELDEBATEenRTVE| 865|\n",
      "|     #EquiparacionYa| 547|\n",
      "|       #6AbrilMadrid| 450|\n",
      "|         #ILPJusapoL| 429|\n",
      "|         #HazQuePase| 411|\n",
      "|#EleccionesGenera...| 359|\n",
      "|        #ValorSeguro| 230|\n",
      "|       #EleccionesL6| 228|\n",
      "|   #DebateAtresmedia| 193|\n",
      "| #LaEspañaQueQuieres| 175|\n",
      "|#LaHistoriaLaEscr...| 170|\n",
      "|         #DebateRTVE| 164|\n",
      "|           #DebatTV3| 163|\n",
      "|           #VotaPSOE| 158|\n",
      "|             #España| 151|\n",
      "|#EleccionesGenerales| 151|\n",
      "|         #EspañaViva| 145|\n",
      "|    #VamosCiudadanos| 138|\n",
      "+--------------------+----+\n",
      "\n"
     ]
    }
   ],
   "source": [
    "hashtags_count=hashtags_count.map(lambda x: add_alm(x))\n",
    "hashtagsTable = hashtags_count.toDF(['hashtag', 'num'])\n",
    "hashtagsTable.limit(20).show()"
   ]
  },
  {
   "cell_type": "code",
   "execution_count": 82,
   "metadata": {
    "deletable": false,
    "editable": false,
    "nbgrader": {
     "cell_type": "code",
     "checksum": "2714d3cc5cd6d8ad099c894d07795981",
     "grade": true,
     "grade_id": "cell-523a33c0ce6749f0",
     "locked": true,
     "points": 0.125,
     "schema_version": 3,
     "solution": false,
     "task": false
    }
   },
   "outputs": [],
   "source": [
    "output = hashtagsTable.first()\n",
    "assert output.hashtag == \"#28A\" and output.num >= 1700, \"Incorrect answer\""
   ]
  },
  {
   "cell_type": "markdown",
   "metadata": {
    "deletable": false,
    "editable": false,
    "nbgrader": {
     "cell_type": "markdown",
     "checksum": "de6afa4a0af366815ab042dc60a4cd12",
     "grade": false,
     "grade_id": "cell-b41cdc82c0313230",
     "locked": true,
     "schema_version": 3,
     "solution": false,
     "task": false
    }
   },
   "source": [
    "Comparad este resultado con el que obtenemos cuando creamos una tabla ```hashtagsTable_sample``` donde contamos los hashtags en el sample estratificada. Ordenad la tabla por número de tweets en orden descendente."
   ]
  },
  {
   "cell_type": "code",
   "execution_count": 83,
   "metadata": {
    "deletable": false,
    "nbgrader": {
     "cell_type": "code",
     "checksum": "6267b0ce4b2029ef4e45a4d4996f05fa",
     "grade": false,
     "grade_id": "cell-2a1d0b60920e07ea",
     "locked": false,
     "schema_version": 3,
     "solution": true,
     "task": false
    }
   },
   "outputs": [
    {
     "name": "stdout",
     "output_type": "stream",
     "text": [
      "+--------------------+---+\n",
      "|             hashtag|num|\n",
      "+--------------------+---+\n",
      "|                #28A| 42|\n",
      "|   #ElDebateDecisivo| 27|\n",
      "|     #ELDEBATEenRTVE| 15|\n",
      "|         #HazQuePase| 13|\n",
      "| #LaEspañaQueQuieres| 10|\n",
      "|         #DebateRTVE|  8|\n",
      "|#EleccionesGenera...|  6|\n",
      "|#LaHistoriaLaEscr...|  5|\n",
      "|    #EstamosMuyCerca|  5|\n",
      "|                #vox|  4|\n",
      "|           #DebatTV3|  4|\n",
      "|             #España|  3|\n",
      "|          #Catalunya|  3|\n",
      "|                #VOX|  3|\n",
      "| #LauraBorrasEsForça|  3|\n",
      "|        #28AVotaPSOE|  3|\n",
      "|        #ValorSeguro|  3|\n",
      "|            #28Abril|  3|\n",
      "|           #VotaPSOE|  3|\n",
      "|     #EquiparacionYa|  3|\n",
      "+--------------------+---+\n",
      "\n"
     ]
    }
   ],
   "source": [
    "hashtags_sample=sample.select(\"tweets\").rdd\n",
    "hashtags=hashtags_sample.map(lambda x: obtain_hashtag(x[0])).filter(lambda x: len(x)>0)\n",
    "hashtags_splitted=hashtags.flatMap(lambda x: x.split(\"#\"))\n",
    "hashtags_count=hashtags_splitted.map(lambda x: (x, 1)).reduceByKey(lambda a, b: a+b).sortBy(lambda x: x[1], ascending=False)\n",
    "hashtags_count=hashtags_count.map(lambda x: add_alm(x))\n",
    "hashtagsTable_sample = hashtags_count.toDF(['hashtag', 'num'])\n",
    "hashtagsTable_sample.limit(20).show()"
   ]
  },
  {
   "cell_type": "code",
   "execution_count": 84,
   "metadata": {
    "deletable": false,
    "editable": false,
    "nbgrader": {
     "cell_type": "code",
     "checksum": "b5ac4e4116ce604f00a0903e21d9ca52",
     "grade": true,
     "grade_id": "cell-64cea6f5c2bf3d84",
     "locked": true,
     "points": 0.0625,
     "schema_version": 3,
     "solution": false,
     "task": false
    }
   },
   "outputs": [],
   "source": [
    "output = hashtagsTable_sample.first()\n",
    "assert output.hashtag == \"#28A\" and output.num >= 35, \"Incorrect answer\""
   ]
  },
  {
   "cell_type": "markdown",
   "metadata": {
    "deletable": false,
    "editable": false,
    "nbgrader": {
     "cell_type": "markdown",
     "checksum": "68f28853bbc4b74984c9ebc26a86bade",
     "grade": false,
     "grade_id": "cell-282efc48db14dc51",
     "locked": true,
     "schema_version": 3,
     "solution": false,
     "task": false
    },
    "toc-hr-collapsed": false
   },
   "source": [
    "## **Parte 4:** Introducción a los datos relacionales"
   ]
  },
  {
   "cell_type": "markdown",
   "metadata": {
    "deletable": false,
    "editable": false,
    "nbgrader": {
     "cell_type": "markdown",
     "checksum": "3ae4dd0a19e36473b0e28dcdeb44db3a",
     "grade": false,
     "grade_id": "cell-37c26fe65603f838",
     "locked": true,
     "schema_version": 3,
     "solution": false,
     "task": false
    }
   },
   "source": [
    "El hecho de trabajar con una base de datos que contiene información generada en una red social nos permite introducir el concepto de datos relacionales. Podemos definir datos relacionales como aquellos en los que existen relaciones entre las entidades que constituyen la base de datos. Si estas relaciones son binarias, relaciones 1 a 1, podemos representar las relaciones como un grafo compuesto por un conjunto de vértices $\\mathcal{V}$ y un conjunto de aristas $\\mathcal{E}$ que los relacionan.\n",
    "\n",
    "En el caso de grafos que emergen de manera orgánica, este tipo de estructura va más allá de los grafos regulares que seguramente conocéis. Este tipo de estructuras se conocen como [redes complejas](https://es.wikipedia.org/wiki/Red_compleja). El estudio de la estructura y dinámicas de este tipo de redes ha contribuido a importantes resultados en campos tan dispares como la física, la sociología, la ecología o la medicina.\n",
    "\n",
    "![complex_network](https://images.squarespace-cdn.com/content/5150aec6e4b0e340ec52710a/1364574727391-XVOFAB9P6GHKTDAH6QTA/lastfm_800_graph_white.png?content-type=image%2Fpng)\n",
    "\n",
    "En esta última parte de la práctica vamos ha trabajar con este tipo de datos. En concreto vamos a modelar uno de los posibles relaciones presentes en el dataset, la red de retweets."
   ]
  },
  {
   "cell_type": "markdown",
   "metadata": {
    "deletable": false,
    "editable": false,
    "nbgrader": {
     "cell_type": "markdown",
     "checksum": "a324425221a6a1089261f47f2893dc67",
     "grade": false,
     "grade_id": "cell-6a6e29d54a0ab104",
     "locked": true,
     "schema_version": 3,
     "solution": false,
     "task": false
    }
   },
   "source": [
    "### **Parte 4.1:** Generar la red de retweets"
   ]
  },
  {
   "cell_type": "markdown",
   "metadata": {
    "deletable": false,
    "editable": false,
    "nbgrader": {
     "cell_type": "markdown",
     "checksum": "f3e6e97323de6cbe675b4ecf88be1376",
     "grade": false,
     "grade_id": "cell-897b2eeeea0dafad",
     "locked": true,
     "schema_version": 3,
     "solution": false,
     "task": false
    }
   },
   "source": [
    "#### **Parte 4.1.1**: Construcción de la edgelist"
   ]
  },
  {
   "cell_type": "markdown",
   "metadata": {
    "deletable": false,
    "editable": false,
    "nbgrader": {
     "cell_type": "markdown",
     "checksum": "1fc428dc8a5ba8a6f8d72d4c200dfc40",
     "grade": false,
     "grade_id": "cell-9a5492c3a2cca893",
     "locked": true,
     "schema_version": 3,
     "solution": false,
     "task": false
    }
   },
   "source": [
    "Lo primero se os pide es que generéis la red. Hay diversas maneras de representar una red compleja, por ejemplo, si estuvierais interesados en trabajar en ellas desde el punto de vista teórico, la manera más habitual de representarlas es utilizando una [matriz de adyacencia](https://es.wikipedia.org/wiki/Matriz_de_adyacencia). En esta práctica vamos a centrarnos en el aspecto computacional, una de las maneras de mas eficientes (computacionalmente hablando) de representar una red es mediante su [*edge list*](https://en.wikipedia.org/wiki/Edge_list), una tabla que especifica la relación a parejas entre las entidades.\n",
    "\n",
    "Las relaciones pueden ser bidireccionales o direccionales y tener algún peso asignado o no (weighted or unweighted). En el caso que nos ocupa, estamos hablando de una red dirigida, un usuario retuitea a otro, y podemos pensarla teniendo en cuenta cuántas veces esto ha pasado.\n",
    "\n",
    "Lo primero que haréis para simplificar el cómputo,  es crear un sample homogéneo sin reemplazo del 1% de los tweets. Utilizando los conocimientos que habéis aprendido en el apartado 3.1. Utilizaremos 42 como valor para la seed.\n",
    "\n",
    "**Esquema**\n",
    "```Python\n",
    "seed = 42\n",
    "sample = tweets.<FILL IN>\n",
    "```"
   ]
  },
  {
   "cell_type": "code",
   "execution_count": 85,
   "metadata": {
    "deletable": false,
    "nbgrader": {
     "cell_type": "code",
     "checksum": "f7c834bfe32aaf48ce9880dc243af438",
     "grade": true,
     "grade_id": "cell-c070f596e66ebeb2",
     "locked": false,
     "points": 0.1,
     "schema_version": 3,
     "solution": true,
     "task": false
    }
   },
   "outputs": [],
   "source": [
    "seed = 42\n",
    "fraction = 0.01\n",
    "\n",
    "sample = tweets.sample(fraction, seed)"
   ]
  },
  {
   "cell_type": "code",
   "execution_count": 86,
   "metadata": {},
   "outputs": [],
   "source": [
    "sqlContext.sql(\"DROP TABLE IF EXISTS sample\")\n",
    "sqlContext.registerDataFrameAsTable(sample, \"sample\")"
   ]
  },
  {
   "cell_type": "markdown",
   "metadata": {
    "deletable": false,
    "editable": false,
    "nbgrader": {
     "cell_type": "markdown",
     "checksum": "832c2a95f06f60f7f8c2b20b1151715d",
     "grade": false,
     "grade_id": "cell-820555a5351b6bd3",
     "locked": true,
     "schema_version": 3,
     "solution": false,
     "task": false
    }
   },
   "source": [
    "Ahora vais a crear una tabla ```edgelist``` con la siguiente información:\n",
    "- ***src:*** usuario que retuitea\n",
    "- ***dst:*** usuario que es retuiteado\n",
    "- ***weight:*** número de veces que un usuario retuitea a otro.\n",
    "\n",
    "Filtrar el resultado para que contenga sólo las relaciones con un weight igual o mayor a dos."
   ]
  },
  {
   "cell_type": "code",
   "execution_count": 87,
   "metadata": {},
   "outputs": [
    {
     "name": "stdout",
     "output_type": "stream",
     "text": [
      "+-------------------+-------------------+----+-----+--------------------+--------------------+--------------------+\n",
      "|                _id|         created_at|lang|place|    retweeted_status|                text|                user|\n",
      "+-------------------+-------------------+----+-----+--------------------+--------------------+--------------------+\n",
      "|1117169844984610817|2019-04-13 22:57:01|  es| null|                null|@Earco1977 Pues a...|[5893, 4783, 5090...|\n",
      "|1117169933849247744|2019-04-13 22:57:22|  en| null|[1117165317254467...|RT @AOC: “They’re...|[105, 51, 1815836...|\n",
      "|1117169944570023938|2019-04-13 22:57:25|  ca| null|[1117142964185309...|RT @ABalagu: El v...|[655, 787, 583056...|\n",
      "|1117170315405217794|2019-04-13 22:58:53|  es| null|[1117168749583523...|RT @anachacong: @...|[155, 225, 998627...|\n",
      "|1117170324691456003|2019-04-13 22:58:56|  es| null|[1117069867633520...|RT @Pablo_Iglesia...|[4493, 4488, 2530...|\n",
      "|1117170355561537537|2019-04-13 22:59:03|  ca| null|[1116778135817728...|RT @SergiCastanye...|[748, 125, 167613...|\n",
      "|1117170464567234560|2019-04-13 22:59:29|  es| null|[1117125310913351...|RT @Manolopedro43...|[43, 91, 83800806...|\n",
      "|1117170838665670662|2019-04-13 23:00:58|  es| null|[1117021754730405...|RT @PhilAMellows:...|[700, 507, 265663...|\n",
      "|1117171024150388741|2019-04-13 23:01:42|  es| null|                null|@ivanedlm Pues mi...|[292, 565, 108410...|\n",
      "|1117171070149246977|2019-04-13 23:01:53| und| null|[1117170562877591...|RT @vazquez_cla: ...|[2845, 4102, 2700...|\n",
      "+-------------------+-------------------+----+-----+--------------------+--------------------+--------------------+\n",
      "\n"
     ]
    }
   ],
   "source": [
    "sample.limit(10).show()"
   ]
  },
  {
   "cell_type": "code",
   "execution_count": 88,
   "metadata": {},
   "outputs": [],
   "source": [
    "edgelist=sqlContext.sql(\"\"\"select src, dst, weight from (\n",
    "                        Select retweeted_status.user.screen_name as dst, user.screen_name as src, \n",
    "                        count(retweeted_status.user.screen_name) as weight\n",
    "                       from sample WHERE retweeted_status is not NULL\n",
    "                       GROUP BY user.screen_name,retweeted_status.user.screen_name) where weight >=2\n",
    "                       \"\"\")"
   ]
  },
  {
   "cell_type": "code",
   "execution_count": 89,
   "metadata": {
    "deletable": false,
    "nbgrader": {
     "cell_type": "code",
     "checksum": "96de40fc61c7ce1c90d7c37bc369f823",
     "grade": false,
     "grade_id": "cell-068c4e6981f4bd17",
     "locked": false,
     "schema_version": 3,
     "solution": true,
     "task": false
    }
   },
   "outputs": [
    {
     "name": "stdout",
     "output_type": "stream",
     "text": [
      "There are 517 edges on the network.\n"
     ]
    }
   ],
   "source": [
    "L = edgelist.count()\n",
    "\n",
    "print(\"There are {0} edges on the network.\".format(L))"
   ]
  },
  {
   "cell_type": "code",
   "execution_count": 90,
   "metadata": {
    "deletable": false,
    "editable": false,
    "nbgrader": {
     "cell_type": "code",
     "checksum": "bc8609a94970c0e3cf0c2bd06bac2d1a",
     "grade": true,
     "grade_id": "cell-5382ba44e19655fc",
     "locked": true,
     "points": 0.65,
     "schema_version": 3,
     "solution": false,
     "task": false
    }
   },
   "outputs": [],
   "source": [
    "assert L == 517, \"Incorrect ouput\""
   ]
  },
  {
   "cell_type": "markdown",
   "metadata": {
    "deletable": false,
    "editable": false,
    "nbgrader": {
     "cell_type": "markdown",
     "checksum": "1d74b63c8eed7ef3c59c73554075e8c1",
     "grade": false,
     "grade_id": "cell-5e8643828cf2869d",
     "locked": true,
     "schema_version": 3,
     "solution": false,
     "task": false
    }
   },
   "source": [
    "#### **Parte 4.1.2:** Centralidad de grado"
   ]
  },
  {
   "cell_type": "markdown",
   "metadata": {
    "deletable": false,
    "editable": false,
    "nbgrader": {
     "cell_type": "markdown",
     "checksum": "7a04b2acd6a3183cb9ac2f419ff0ee64",
     "grade": false,
     "grade_id": "cell-9ba26ef00ea8587b",
     "locked": true,
     "schema_version": 3,
     "solution": false,
     "task": false
    }
   },
   "source": [
    "Uno de los descriptores más comunes en el análisis de redes es el grado. El grado cuantifica cuántas aristas están conectadas a cada vértice~s~. En el caso de redes dirigidas como la que acabamos de crear este descriptor está descompuesto en el:\n",
    "- **in degree**: cuantas aristas apuntan al nodo\n",
    "- **out degree**: cuantas aristas salen del nodo\n",
    "\n",
    "Si haces un ranquing de estos valores vais a obtener una medida de centralidad, la [centralidad de grado](https://en.wikipedia.org/wiki/Centrality#Degree_centrality), de cada uno de los nodos.\n",
    "\n",
    "Se os pide que generéis una tabla `outDegree` con la información:\n",
    "- ***screen_name:*** nombre del usuario.\n",
    "- ***outDegree:*** out degree del nodo.\n",
    "\n",
    "Ordenado la tabla por out degree en orden descendente."
   ]
  },
  {
   "cell_type": "code",
   "execution_count": 91,
   "metadata": {
    "deletable": false,
    "nbgrader": {
     "cell_type": "code",
     "checksum": "03650fc79254b488da052ab3cbb96ac4",
     "grade": false,
     "grade_id": "cell-ee617d0c697a3c28",
     "locked": false,
     "schema_version": 3,
     "solution": true,
     "task": false
    }
   },
   "outputs": [
    {
     "name": "stdout",
     "output_type": "stream",
     "text": [
      "+---------------+----------+\n",
      "|            src|count(dst)|\n",
      "+---------------+----------+\n",
      "|    Manudocalin|         3|\n",
      "|  antoniobb1953|         3|\n",
      "|     carrasquem|         2|\n",
      "|     Nacho_JISF|         2|\n",
      "|       cukianaa|         2|\n",
      "|    Karmaleonic|         2|\n",
      "|       anap1958|         2|\n",
      "| lanzarotejesus|         2|\n",
      "| Maria_pilar_ga|         2|\n",
      "|      Juancarfg|         2|\n",
      "|    mariasvilas|         2|\n",
      "|     ArwenPlaza|         2|\n",
      "|    RosaMar6254|         2|\n",
      "| ALFONSOLODEIRO|         2|\n",
      "|     mirovira75|         2|\n",
      "|      ppoleiros|         2|\n",
      "|Migueln53227148|         2|\n",
      "|    mariaje1956|         2|\n",
      "|  mariarossa004|         2|\n",
      "|      fatimar56|         2|\n",
      "+---------------+----------+\n",
      "\n"
     ]
    }
   ],
   "source": [
    "edgelist_aux=edgelist.select(\"src\",\"dst\")\n",
    "outDegree=edgelist_aux.groupBy(\"src\")\\\n",
    "                 .agg({\"dst\":\"count\"})\\\n",
    "                 .orderBy(\"count(dst)\",ascending=False)\n",
    "outDegree.limit(20).show()"
   ]
  },
  {
   "cell_type": "code",
   "execution_count": 92,
   "metadata": {},
   "outputs": [
    {
     "name": "stdout",
     "output_type": "stream",
     "text": [
      "+---------------+---------+\n",
      "|    screen_name|outDegree|\n",
      "+---------------+---------+\n",
      "|    Manudocalin|        3|\n",
      "|  antoniobb1953|        3|\n",
      "|     carrasquem|        2|\n",
      "|Migueln53227148|        2|\n",
      "|    RosaMar6254|        2|\n",
      "|    mariasvilas|        2|\n",
      "|  mariarossa004|        2|\n",
      "|      fatimar56|        2|\n",
      "| Maria_pilar_ga|        2|\n",
      "|PisandoFuerte10|        2|\n",
      "+---------------+---------+\n",
      "\n"
     ]
    }
   ],
   "source": [
    "outDegree=outDegree.withColumnRenamed(\"src\",\"screen_name\").withColumnRenamed(\"count(dst)\",\"outDegree\")\n",
    "outDegree.limit(10).show()"
   ]
  },
  {
   "cell_type": "code",
   "execution_count": 93,
   "metadata": {
    "deletable": false,
    "editable": false,
    "nbgrader": {
     "cell_type": "code",
     "checksum": "ae6e88f896338c3b6aaf37647411812c",
     "grade": true,
     "grade_id": "cell-c035c05881920745",
     "locked": true,
     "points": 0.375,
     "schema_version": 3,
     "solution": false,
     "task": false
    }
   },
   "outputs": [],
   "source": [
    "output = outDegree.first()\n",
    "assert output.screen_name == \"Manudocalin\" and output.outDegree == 3, \"Incorrect output\""
   ]
  },
  {
   "cell_type": "markdown",
   "metadata": {
    "deletable": false,
    "editable": false,
    "nbgrader": {
     "cell_type": "markdown",
     "checksum": "ba07c50047bec31507a5b996879bf08d",
     "grade": false,
     "grade_id": "cell-e346c8c66921c20d",
     "locked": true,
     "schema_version": 3,
     "solution": false,
     "task": false
    }
   },
   "source": [
    "Se os pide ahora que generéis una tabla `inDegree` con la información:\n",
    "- ***screen_name:*** nombre del usuario.\n",
    "- ***inDegree:*** in degree del nodo.\n",
    "\n",
    "Ordenad la tabla por in degree en orden descendente."
   ]
  },
  {
   "cell_type": "code",
   "execution_count": 94,
   "metadata": {
    "deletable": false,
    "nbgrader": {
     "cell_type": "code",
     "checksum": "15ab33812b6984766ed4183e765562c7",
     "grade": false,
     "grade_id": "cell-563978b25aed78d8",
     "locked": false,
     "schema_version": 3,
     "solution": true,
     "task": false
    }
   },
   "outputs": [
    {
     "name": "stdout",
     "output_type": "stream",
     "text": [
      "+---------------+--------+\n",
      "|    screen_name|inDegree|\n",
      "+---------------+--------+\n",
      "|           PSOE|      45|\n",
      "|   ahorapodemos|      37|\n",
      "|   CiudadanosCs|      26|\n",
      "|         vox_es|      26|\n",
      "|      populares|      25|\n",
      "|  Santi_ABASCAL|      18|\n",
      "|Front_Republica|       9|\n",
      "|      JuntsXCat|       9|\n",
      "|  AlbanoDante76|       7|\n",
      "|sanchezcastejon|       6|\n",
      "|           KRLS|       6|\n",
      "|    CastigadorY|       5|\n",
      "|   Esquerra_ERC|       5|\n",
      "|    protestona1|       5|\n",
      "|     rcabrero75|       4|\n",
      "|Pablo_Iglesias_|       4|\n",
      "| AntonioMaestre|       4|\n",
      "|socialistes_cat|       4|\n",
      "|       marubimo|       4|\n",
      "|       ivanedlm|       4|\n",
      "+---------------+--------+\n",
      "\n"
     ]
    }
   ],
   "source": [
    "inDegree=edgelist_aux.groupBy(\"dst\")\\\n",
    "                 .agg({\"src\":\"count\"})\\\n",
    "                 .orderBy(\"count(src)\",ascending=False)\n",
    "inDegree=inDegree.withColumnRenamed(\"dst\",\"screen_name\").withColumnRenamed(\"count(src)\",\"inDegree\")\n",
    "inDegree.limit(20).show()"
   ]
  },
  {
   "cell_type": "code",
   "execution_count": 95,
   "metadata": {
    "deletable": false,
    "editable": false,
    "nbgrader": {
     "cell_type": "code",
     "checksum": "607161120c1cafa9617db39a0cc0f09b",
     "grade": true,
     "grade_id": "cell-2e51da2e33a38b88",
     "locked": true,
     "points": 0.375,
     "schema_version": 3,
     "solution": false,
     "task": false
    }
   },
   "outputs": [],
   "source": [
    "output = inDegree.first()\n",
    "assert output.screen_name == \"PSOE\" and output.inDegree == 45, \"Incorrect output\""
   ]
  },
  {
   "cell_type": "markdown",
   "metadata": {
    "deletable": false,
    "editable": false,
    "nbgrader": {
     "cell_type": "markdown",
     "checksum": "54f54cbd33304095254f5a23e3b0771a",
     "grade": false,
     "grade_id": "cell-3090f93808799ac8",
     "locked": true,
     "schema_version": 3,
     "solution": false,
     "task": false
    },
    "toc-hr-collapsed": false
   },
   "source": [
    "### **Part 4.2:** Graphframes"
   ]
  },
  {
   "cell_type": "markdown",
   "metadata": {
    "deletable": false,
    "editable": false,
    "nbgrader": {
     "cell_type": "markdown",
     "checksum": "e1de34563f8c0615a7acf964a310b85c",
     "grade": false,
     "grade_id": "cell-573d4e35edb016e1",
     "locked": true,
     "schema_version": 3,
     "solution": false,
     "task": false
    }
   },
   "source": [
    "Este tipo de estructuras es muy común en muchos datasets y su análisis cada vez se ha vuelto más habitual. Para simplificar las operaciones y el análisis vamos a utilizar una librería específicamente diseñada para trabajar en redes en sistemas distribuidos: [**Graphframes**](https://graphframes.github.io/graphframes/docs/_site/index.html)."
   ]
  },
  {
   "cell_type": "code",
   "execution_count": 96,
   "metadata": {
    "deletable": false,
    "editable": false,
    "nbgrader": {
     "cell_type": "code",
     "checksum": "63565c68dadd69d622904df5c2386da3",
     "grade": false,
     "grade_id": "cell-d7ed2b30adbb608b",
     "locked": true,
     "schema_version": 3,
     "solution": false,
     "task": false
    }
   },
   "outputs": [],
   "source": [
    "import sys\n",
    "pyfiles = str(sc.getConf().get(u'spark.submit.pyFiles')).split(',')\n",
    "sys.path.extend(pyfiles)\n",
    "from graphframes import *"
   ]
  },
  {
   "cell_type": "markdown",
   "metadata": {
    "deletable": false,
    "editable": false,
    "nbgrader": {
     "cell_type": "markdown",
     "checksum": "ad160635d7e0a56d7ff103dc3fd886db",
     "grade": false,
     "grade_id": "cell-4eb5d1ee55df827d",
     "locked": true,
     "schema_version": 3,
     "solution": false,
     "task": false
    }
   },
   "source": [
    "Lo primero que vamos ha hacer es crear un objeto ```GraphFrame``` que contendrà toda la información de la red.\n",
    "\n",
    "En un paso previo ya hemos creado la *edge list* ahora vamos a crear una lista con los vértices. Crear una tabla ```vertices``` que contenga una única columna ```id``` con los nombre de usuario de todos los vértices. Recordad que hay vértices que puede que solo tengan aristas incidentes y otros que puede que no tengan (tenéis que utilizar la información de ambas columnas de la ```edgelist```). Recordad que la lista de vértices es un conjunto donde no puede haber repetición de identificadores."
   ]
  },
  {
   "cell_type": "code",
   "execution_count": 98,
   "metadata": {
    "deletable": false,
    "nbgrader": {
     "cell_type": "code",
     "checksum": "c769e75f0205604516ee772620012060",
     "grade": false,
     "grade_id": "cell-5223320eddb5e2df",
     "locked": false,
     "schema_version": 3,
     "solution": true,
     "task": false
    }
   },
   "outputs": [
    {
     "name": "stdout",
     "output_type": "stream",
     "text": [
      "There are 682 nodes on the network.\n"
     ]
    }
   ],
   "source": [
    "vertices=outDegree.join(inDegree,['screen_name'],\"fullouter\")\n",
    "\n",
    "vertices=vertices.select(\"screen_name\").withColumnRenamed(\"screen_name\",\"id\")\n",
    "\n",
    "N = vertices.count()\n",
    "print(\"There are {0} nodes on the network.\".format(N))"
   ]
  },
  {
   "cell_type": "code",
   "execution_count": 99,
   "metadata": {},
   "outputs": [
    {
     "name": "stdout",
     "output_type": "stream",
     "text": [
      "+---------------+\n",
      "|             id|\n",
      "+---------------+\n",
      "| EvaaFernaandez|\n",
      "|         boye_g|\n",
      "|   rosadiezglez|\n",
      "|        saribes|\n",
      "|    CastigadorY|\n",
      "|      TurySpain|\n",
      "|violeta11377531|\n",
      "|        vmm7773|\n",
      "| Miotroyo2parte|\n",
      "|    ionebelarra|\n",
      "+---------------+\n",
      "\n"
     ]
    }
   ],
   "source": [
    "vertices.limit(10).show()"
   ]
  },
  {
   "cell_type": "code",
   "execution_count": 100,
   "metadata": {
    "deletable": false,
    "editable": false,
    "nbgrader": {
     "cell_type": "code",
     "checksum": "4a05e368d18200e0a1c614536278e525",
     "grade": true,
     "grade_id": "cell-174493e69b3b15ae",
     "locked": true,
     "points": 0.25,
     "schema_version": 3,
     "solution": false,
     "task": false
    }
   },
   "outputs": [],
   "source": [
    "assert N == 682, 'Incorrect output'"
   ]
  },
  {
   "cell_type": "markdown",
   "metadata": {
    "deletable": false,
    "editable": false,
    "nbgrader": {
     "cell_type": "markdown",
     "checksum": "a79c954a9a33e405d9ec9f1e632741e9",
     "grade": false,
     "grade_id": "cell-1bf3c068c7f4d9c6",
     "locked": true,
     "schema_version": 3,
     "solution": false,
     "task": false
    }
   },
   "source": [
    "Al igual que con las aristas, podéis asignar atributos a los vértices. Generad tabla `vertices_extended` combinando la tabla ```vertices``` haciendo un *inner join* por ```id``` con la tabla ```user_info``` guardada en el contexto ```hiveContext```. Ordenad la tabla resultante por followers en orden descendente"
   ]
  },
  {
   "cell_type": "code",
   "execution_count": 101,
   "metadata": {},
   "outputs": [
    {
     "name": "stdout",
     "output_type": "stream",
     "text": [
      "+---------------+----+------+------------+---------+---------+\n",
      "|             id|lang|tweets|total_tweets|following|followers|\n",
      "+---------------+----+------+------------+---------+---------+\n",
      "|  000001Account|  en|     9|         107|       89|        2|\n",
      "|       00000365|  en|     1|         754|      685|      189|\n",
      "|        00000di|  ko|     1|        7281|       78|        1|\n",
      "|00000paco000000|  es|   281|       19906|       11|      135|\n",
      "|0001011010100O1|  es|     1|        1619|      239|       42|\n",
      "|    0001Cecilia|  es|     1|          67|      248|      121|\n",
      "|   000Gisela000|  es|     1|          76|      443|       15|\n",
      "|    000Jenrique|  es|    90|       20473|      601|      189|\n",
      "|      000chrisF|  en|     1|         632|       20|        3|\n",
      "|         000jhs|  pt|     1|       24642|     4981|      761|\n",
      "+---------------+----+------+------------+---------+---------+\n",
      "\n"
     ]
    }
   ],
   "source": [
    "user_info=hiveContext.sql(\"select * from user_info\")\n",
    "user_info.limit(10).show()"
   ]
  },
  {
   "cell_type": "code",
   "execution_count": 102,
   "metadata": {
    "deletable": false,
    "nbgrader": {
     "cell_type": "code",
     "checksum": "ee29a87d4bdf678c73a94b6f1543b82c",
     "grade": false,
     "grade_id": "cell-f9e24aabf014646e",
     "locked": false,
     "schema_version": 3,
     "solution": true,
     "task": false
    }
   },
   "outputs": [
    {
     "name": "stdout",
     "output_type": "stream",
     "text": [
      "+---------------+----+------+------------+---------+---------+\n",
      "|             id|lang|tweets|total_tweets|following|followers|\n",
      "+---------------+----+------+------------+---------+---------+\n",
      "|        el_pais|  es|   880|      478720|      756|  6904062|\n",
      "|Pablo_Iglesias_|  es|   160|       20949|     2831|  2297175|\n",
      "|   ahorapodemos|  es|   858|      100336|     1571|  1381944|\n",
      "|  Albert_Rivera|  es|   122|       54980|     2581|  1127429|\n",
      "|        agarzon|  es|   134|       58265|     1204|  1049193|\n",
      "|sanchezcastejon|  es|   146|       25232|     6126|  1025272|\n",
      "|     eldiarioes|  es|  1082|      196012|      467|   978114|\n",
      "|       iescolar|  es|   266|       75294|     5574|   939790|\n",
      "|     publico_es|  es|   742|      349214|     1471|   934593|\n",
      "|           KRLS|  ca|   129|       18732|     4270|   754475|\n",
      "|      populares|  es|   748|       82229|     4469|   708893|\n",
      "|           PSOE|  es|  1085|       96635|    13644|   680626|\n",
      "|    elperiodico|  es|   521|      399635|    18446|   613042|\n",
      "|         iunida|  es|   586|       96033|    10255|   564099|\n",
      "|   CiudadanosCs|  es|  1359|      130740|    92934|   524129|\n",
      "|     MonederoJC|  es|    78|       13905|      998|   514714|\n",
      "|  InesArrimadas|  es|   107|        3737|     1260|   502455|\n",
      "|revistamongolia|  es|   240|      128199|     3381|   435101|\n",
      "|           COPE|  es|   656|      169877|      161|   367094|\n",
      "|   Esquerra_ERC|  ca|  1256|      111477|    99387|   363474|\n",
      "+---------------+----+------+------------+---------+---------+\n",
      "\n"
     ]
    }
   ],
   "source": [
    "vertices_extended=vertices.join(user_info,['id'],\"inner\")\n",
    "vertices_extended=vertices_extended.orderBy(\"followers\", ascending=False)\n",
    "\n",
    "vertices_extended.limit(20).show()"
   ]
  },
  {
   "cell_type": "code",
   "execution_count": 103,
   "metadata": {
    "deletable": false,
    "editable": false,
    "nbgrader": {
     "cell_type": "code",
     "checksum": "477a9a61ef3b1e9998a6d148dbaeb7ad",
     "grade": true,
     "grade_id": "cell-b3fa48a27337ee8b",
     "locked": true,
     "points": 0.075,
     "schema_version": 3,
     "solution": false,
     "task": false
    }
   },
   "outputs": [],
   "source": [
    "output = vertices_extended.first()\n",
    "assert output.id == \"el_pais\" and output.lang == \"es\" and output.followers == 6904062"
   ]
  },
  {
   "cell_type": "markdown",
   "metadata": {
    "deletable": false,
    "editable": false,
    "nbgrader": {
     "cell_type": "markdown",
     "checksum": "974ae43639bef11debc1e8b567f185f8",
     "grade": false,
     "grade_id": "cell-3b15d252aa31f8d5",
     "locked": true,
     "schema_version": 3,
     "solution": false,
     "task": false
    }
   },
   "source": [
    "Una vez tenemos la edgelist y la lista de vértices estamos en disposición de instanciar [un objecto ```GraphFrame```](https://graphframes.github.io/graphframes/docs/_site/api/python/graphframes.html). Instanciad este objeto en la variable ```network```."
   ]
  },
  {
   "cell_type": "code",
   "execution_count": 104,
   "metadata": {
    "deletable": false,
    "nbgrader": {
     "cell_type": "code",
     "checksum": "5ed9389b626938c912b46613a110b2f4",
     "grade": false,
     "grade_id": "cell-e3a653e229dddcb4",
     "locked": false,
     "schema_version": 3,
     "solution": true,
     "task": false
    }
   },
   "outputs": [],
   "source": [
    "network = GraphFrame(vertices,edgelist)"
   ]
  },
  {
   "cell_type": "code",
   "execution_count": 105,
   "metadata": {
    "deletable": false,
    "editable": false,
    "nbgrader": {
     "cell_type": "code",
     "checksum": "a7a4ecc4fd7c58c79e5f0a7e28f82349",
     "grade": true,
     "grade_id": "cell-dc9f7c83382037ae",
     "locked": true,
     "points": 0.075,
     "schema_version": 3,
     "solution": false,
     "task": false
    }
   },
   "outputs": [],
   "source": [
    "assert type(network) == GraphFrame, \"Incorrect answer\""
   ]
  },
  {
   "cell_type": "markdown",
   "metadata": {
    "deletable": false,
    "editable": false,
    "nbgrader": {
     "cell_type": "markdown",
     "checksum": "9ef6632495572d4f23b4aa24c3943e4f",
     "grade": false,
     "grade_id": "cell-7b74e86f41949456",
     "locked": true,
     "schema_version": 3,
     "solution": false,
     "task": false
    }
   },
   "source": [
    "El objeto que acabais de crear tiene muchas atributos y métodos para el analisis de redes [(comprobad el API)](https://graphframes.github.io/graphframes/docs/_site/api/python/graphframes.html). Se os pide que utilizéis el atributo ```inDegrees``` del objeto que acabáis de crear para, conjuntamente con la transformación ```orderBy```, generar una tabla `inDegreeGraph` ordenada descendentemente por grado."
   ]
  },
  {
   "cell_type": "code",
   "execution_count": 106,
   "metadata": {
    "deletable": false,
    "nbgrader": {
     "cell_type": "code",
     "checksum": "3a2edb6f9e9ec058b6aa5c8215050b3f",
     "grade": false,
     "grade_id": "cell-e2800f766932fb2b",
     "locked": false,
     "schema_version": 3,
     "solution": true,
     "task": false
    }
   },
   "outputs": [
    {
     "name": "stdout",
     "output_type": "stream",
     "text": [
      "+---------------+--------+\n",
      "|             id|inDegree|\n",
      "+---------------+--------+\n",
      "|           PSOE|      45|\n",
      "|   ahorapodemos|      37|\n",
      "|   CiudadanosCs|      26|\n",
      "|         vox_es|      26|\n",
      "|      populares|      25|\n",
      "|  Santi_ABASCAL|      18|\n",
      "|Front_Republica|       9|\n",
      "|      JuntsXCat|       9|\n",
      "|  AlbanoDante76|       7|\n",
      "|sanchezcastejon|       6|\n",
      "|           KRLS|       6|\n",
      "|    CastigadorY|       5|\n",
      "|   Esquerra_ERC|       5|\n",
      "|    protestona1|       5|\n",
      "|     rcabrero75|       4|\n",
      "|Pablo_Iglesias_|       4|\n",
      "| AntonioMaestre|       4|\n",
      "|socialistes_cat|       4|\n",
      "|       marubimo|       4|\n",
      "|       ivanedlm|       4|\n",
      "+---------------+--------+\n",
      "\n"
     ]
    }
   ],
   "source": [
    "inDegreeGraph=network.inDegrees.orderBy(\"inDegree\",ascending=False)\n",
    "inDegreeGraph.limit(20).show()"
   ]
  },
  {
   "cell_type": "code",
   "execution_count": 107,
   "metadata": {
    "deletable": false,
    "editable": false,
    "nbgrader": {
     "cell_type": "code",
     "checksum": "d17f1747eb0b3a17e4abbbd5c7687521",
     "grade": true,
     "grade_id": "cell-2de83c2ac5675360",
     "locked": true,
     "points": 0.05,
     "schema_version": 3,
     "solution": false,
     "task": false
    }
   },
   "outputs": [],
   "source": [
    "output = inDegreeGraph.first()\n",
    "assert output.id == \"PSOE\" and output.inDegree == 45, \"Incorrect answer\""
   ]
  },
  {
   "cell_type": "markdown",
   "metadata": {
    "deletable": false,
    "editable": false,
    "nbgrader": {
     "cell_type": "markdown",
     "checksum": "d24598d129ba07cc4443f5b362de140d",
     "grade": false,
     "grade_id": "cell-ca772769d5a97313",
     "locked": true,
     "schema_version": 3,
     "solution": false,
     "task": false
    }
   },
   "source": [
    "Haced lo mismo con el atributo ```outDegrees``` para, conjuntamente con la transformación ```orderBy```, generar una tabla `outDegreeGraph` que contenga la informació del out degree en orden descendente."
   ]
  },
  {
   "cell_type": "code",
   "execution_count": 108,
   "metadata": {
    "deletable": false,
    "nbgrader": {
     "cell_type": "code",
     "checksum": "77e9dcf86ad78877e509a67ae4640866",
     "grade": false,
     "grade_id": "cell-e4623aa725e82ecc",
     "locked": false,
     "schema_version": 3,
     "solution": true,
     "task": false
    }
   },
   "outputs": [
    {
     "name": "stdout",
     "output_type": "stream",
     "text": [
      "+---------------+---------+\n",
      "|             id|outDegree|\n",
      "+---------------+---------+\n",
      "|    Manudocalin|        3|\n",
      "|  antoniobb1953|        3|\n",
      "|     carrasquem|        2|\n",
      "|     Nacho_JISF|        2|\n",
      "|       cukianaa|        2|\n",
      "|    Karmaleonic|        2|\n",
      "|       anap1958|        2|\n",
      "| lanzarotejesus|        2|\n",
      "| Maria_pilar_ga|        2|\n",
      "|      Juancarfg|        2|\n",
      "|    mariasvilas|        2|\n",
      "|     ArwenPlaza|        2|\n",
      "|    RosaMar6254|        2|\n",
      "| ALFONSOLODEIRO|        2|\n",
      "|     mirovira75|        2|\n",
      "|      ppoleiros|        2|\n",
      "|Migueln53227148|        2|\n",
      "|    mariaje1956|        2|\n",
      "|  mariarossa004|        2|\n",
      "|      fatimar56|        2|\n",
      "+---------------+---------+\n",
      "\n"
     ]
    }
   ],
   "source": [
    "outDegreeGraph=network.outDegrees.orderBy(\"outDegree\",ascending=False)\n",
    "outDegreeGraph.limit(20).show()"
   ]
  },
  {
   "cell_type": "code",
   "execution_count": 109,
   "metadata": {
    "deletable": false,
    "editable": false,
    "nbgrader": {
     "cell_type": "code",
     "checksum": "0805f4f98ce009866b4286ac98107995",
     "grade": true,
     "grade_id": "cell-106c397eb883e5cd",
     "locked": true,
     "points": 0.05,
     "schema_version": 3,
     "solution": false,
     "task": false
    }
   },
   "outputs": [],
   "source": [
    "output = outDegreeGraph.first()\n",
    "assert output.id == \"Manudocalin\" and output.outDegree == 3, \"Incorrect answer\""
   ]
  },
  {
   "cell_type": "markdown",
   "metadata": {
    "deletable": false,
    "editable": false,
    "nbgrader": {
     "cell_type": "markdown",
     "checksum": "f2943b558536f18d0e150226028ee770",
     "grade": false,
     "grade_id": "cell-a7055035515a3473",
     "locked": true,
     "schema_version": 3,
     "solution": false,
     "task": false
    }
   },
   "source": [
    "### **Parte 5:** Preguntas teoricas y conceptuales (1 punto)"
   ]
  },
  {
   "cell_type": "markdown",
   "metadata": {
    "deletable": false,
    "editable": false,
    "nbgrader": {
     "cell_type": "markdown",
     "checksum": "fd074e44cb81cd4c170281bb0b7bf457",
     "grade": false,
     "grade_id": "cell-ddf9ed14b992fcb5",
     "locked": true,
     "schema_version": 3,
     "solution": false,
     "task": false
    }
   },
   "source": [
    "1. Explica las diferencias entre un SGBDR y Apache Hive. (0.3 puntos)"
   ]
  },
  {
   "cell_type": "markdown",
   "metadata": {
    "deletable": false,
    "nbgrader": {
     "cell_type": "code",
     "checksum": "9044783d14fd65858acafba57fb6ae6a",
     "grade": true,
     "grade_id": "cell-119a141af99a15fa",
     "locked": false,
     "points": 0.3,
     "schema_version": 3,
     "solution": true,
     "task": false
    }
   },
   "source": [
    "El **SGBDR** es el Sistema de Gestión de Bases de Datos Relacionales y **Apache Hive** es un sistema software de almacenamiento de datos que proporciona consultas y análisis de datos. Las principales diferencias son las siguientes:\n",
    "\n",
    "|SGBDR| Apache Hive|\n",
    "|------|------------|\n",
    "|Se utiliza para mantener la base de datos | se utiliza para mantener el almacén de datos|\n",
    "|Utiliza SQL| Utiliza HQL|\n",
    "|El esquema se corrige en SGDBR| El esquema varía en él|\n",
    "|Los datos normalizados se almacenan|Se almacenan ambos tipos de datos: normalizados y desnormalizados|\n",
    "|Las tablas son escasas|Las tablas son densas|\n",
    "|No admite particiones| Es compatible con la partición de automatización|\n",
    "|No se utiliza ningún método de partición|El método de fragmentación se utiliza para la partición|\n",
    "\n",
    "Además el volumen de datos que puede procesar Hive es mucho mayor que el que puede procesar un SGDBR\n",
    "\n"
   ]
  },
  {
   "cell_type": "markdown",
   "metadata": {
    "deletable": false,
    "editable": false,
    "nbgrader": {
     "cell_type": "markdown",
     "checksum": "cb03855b1c0c028726bc3c9338d61ce8",
     "grade": false,
     "grade_id": "cell-ae5423c24c85789a",
     "locked": true,
     "schema_version": 3,
     "solution": false,
     "task": false
    }
   },
   "source": [
    "2. Explica las relaciones que existe entre Apache Hive, su Metastore y HDFS. (0.3 puntos)"
   ]
  },
  {
   "cell_type": "markdown",
   "metadata": {
    "deletable": false,
    "nbgrader": {
     "cell_type": "code",
     "checksum": "912bb6ca7148a9d6dcec0e24935f9503",
     "grade": true,
     "grade_id": "cell-98f14620ab7799d3",
     "locked": false,
     "points": 0.3,
     "schema_version": 3,
     "solution": true,
     "task": false
    }
   },
   "source": [
    "Hive es una fachada construida sobre Hadoop que permite acceder a los datos almacenados en HDFS de forma muy sencilla sin necesidad de conocer Java, Map Reduce u otras tecnologías.\n",
    "Hive impone una estructura sobre los datos almacenados en HDFS. Esta estructura se conoce como Schema, y Hive la almacena en su propia base de datos (metastore)."
   ]
  },
  {
   "cell_type": "markdown",
   "metadata": {
    "deletable": false,
    "editable": false,
    "nbgrader": {
     "cell_type": "markdown",
     "checksum": "4e1e0cbb9231f4bab8904855abbae7fc",
     "grade": false,
     "grade_id": "cell-ba84388421c071b1",
     "locked": true,
     "schema_version": 3,
     "solution": false,
     "task": false
    }
   },
   "source": [
    "3. Realiza una comparativa detallada (entre 5 y 10 lineas) entre Apache Hive e Impala. (0.4 puntos)"
   ]
  },
  {
   "cell_type": "markdown",
   "metadata": {
    "deletable": false,
    "nbgrader": {
     "cell_type": "code",
     "checksum": "f4d415e7a1e843a9cee305e82c41da90",
     "grade": true,
     "grade_id": "cell-d386682aee39f2e7",
     "locked": false,
     "points": 0.4,
     "schema_version": 3,
     "solution": true,
     "task": false
    }
   },
   "source": [
    "**Apache Hive:** es un software de almacenamiento de datos creado sobre Apache Hadoop para proporcionar consultas y análisis de datos. Ofrece una interfaz similar a SQL para consultar datos almacenados en varias bases de datos y sistemas de archivos que se integran con Hadoop. \n",
    "\n",
    "\n",
    "**Apache Impala:** es un motor de consulta SQL de procesamiento paralelo masivo de código abierto para datos almacenados en un clúster de computadoras que ejecutan Apache Hadoop.\n",
    "\n",
    "Las principales diferencias son:\n",
    "\n",
    "|Apache Hive| Apache Impala|\n",
    "|-----------|--------------|\n",
    "|Hive traduce las consultas para que se ejecuten en trabajos de MapReduce|Impala responde rápidamente a través de un procesamiento masivo en paralelo|\n",
    "|Lenguaje versátil y conectable|Utilizado para el procesamiento de fuerza bruta|\n",
    "|Cada consulta de colmena tiene este problema de \"arranque en frío\"|Evita la sobrecarga de inicio ya que los procesos daemon se inician en el momento del arranque|\n",
    "|Tiene consultas tipo SQL|Proporciona soporte de almacenamiento HDFS y apache HBase|\n",
    "|Use funciones familiares definidas por el usuario (UFFD) para manipular los datos|Puede leer metadatos fácilmente usando el controlador y la sintaxis SQL de Apache Hive|\n",
    "|Es una infraestructura de almacenamiento de datos construida sobre la plataforma Hadoop.|No requiere que los datos se muevan o transformen|\n",
    "|Utilizado para procesamiento de análisis y visualización|Utilizado por programadores para ejecutar consultas en HDFS y apache HBase|\n",
    "|Apache Hive es tolerante a fallos| Apache Impala no es tolerante a fallos|\n",
    "|Hive no es compatible con la computación interactiva|Impala es compatible con la computación interactiva|"
   ]
  }
 ],
 "metadata": {
  "kernelspec": {
   "display_name": "Python 3",
   "language": "python",
   "name": "python3"
  },
  "language_info": {
   "codemirror_mode": {
    "name": "ipython",
    "version": 3
   },
   "file_extension": ".py",
   "mimetype": "text/x-python",
   "name": "python",
   "nbconvert_exporter": "python",
   "pygments_lexer": "ipython3",
   "version": "3.5.2"
  },
  "toc-autonumbering": false,
  "toc-showcode": false,
  "toc-showmarkdowntxt": false,
  "toc-showtags": false
 },
 "nbformat": 4,
 "nbformat_minor": 4
}
